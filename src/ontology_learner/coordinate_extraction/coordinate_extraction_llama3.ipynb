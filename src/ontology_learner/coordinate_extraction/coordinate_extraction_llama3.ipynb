{
 "cells": [
  {
   "cell_type": "markdown",
   "metadata": {},
   "source": [
    "Try to extract coordinates from tables"
   ]
  },
  {
   "cell_type": "code",
   "execution_count": 1,
   "metadata": {},
   "outputs": [
    {
     "name": "stdout",
     "output_type": "stream",
     "text": [
      "/Users/poldrack/Dropbox/data/ontology-learner/data\n"
     ]
    },
    {
     "name": "stderr",
     "output_type": "stream",
     "text": [
      "/Users/poldrack/Dropbox/code/ontology_learner/.venv/lib/python3.12/site-packages/tqdm_joblib/__init__.py:4: TqdmExperimentalWarning: Using `tqdm.autonotebook.tqdm` in notebook mode. Use `tqdm.tqdm` instead to force console mode (e.g. in jupyter console)\n",
      "  from tqdm.autonotebook import tqdm\n"
     ]
    }
   ],
   "source": [
    "import json\n",
    "from pathlib import Path\n",
    "from ontology_learner.publication import Publication\n",
    "from dotenv import load_dotenv\n",
    "import os\n",
    "from ontology_learner.gpt4_direct.gpt_term_mining import (\n",
    "    mk_batch_script,\n",
    "    run_batch_request,\n",
    "    wait_for_batch_completion\n",
    "    )\n",
    "from ontology_learner.gpt4_direct.together_utils import chat\n",
    "from ontology_learner.coordinate_extraction.extraction_utils import get_coord_prompt\n",
    "import pandas as pd\n",
    "from joblib import Parallel, delayed\n",
    "from tqdm_joblib import tqdm_joblib\n",
    "from tqdm import tqdm\n",
    "import time\n",
    "\n",
    "load_dotenv()\n",
    "api_key = os.getenv(\"OPENAI\")\n",
    "\n",
    "datadir = Path(os.getenv('DATADIR'))\n",
    "print(datadir)\n",
    "\n",
    "jsondir = datadir / 'json'\n",
    "\n",
    "\n",
    "def get_messages(prompt):\n",
    "    return [\n",
    "        {\"role\": \"system\", \"content\": \"You are an expert in neuroimaging research.\"},\n",
    "        {\"role\": \"user\", \"content\": prompt}\n",
    "    ]\n",
    "\n"
   ]
  },
  {
   "cell_type": "code",
   "execution_count": 2,
   "metadata": {},
   "outputs": [
    {
     "name": "stdout",
     "output_type": "stream",
     "text": [
      "13421\n"
     ]
    }
   ],
   "source": [
    "coord_df = pd.read_csv(datadir / 'coordinate_extraction/coords_df_gpt4.csv')\n",
    "\n",
    "all_pmids = sorted(list(coord_df.pmcid.unique()))\n",
    "print(len(all_pmids))\n",
    "\n"
   ]
  },
  {
   "cell_type": "code",
   "execution_count": 3,
   "metadata": {},
   "outputs": [],
   "source": [
    "def get_tabledata(pmids, jsondir, use_tqdm=False):\n",
    "    tabledata = {}\n",
    "    # use tqdm \n",
    "    if use_tqdm:\n",
    "        iter_pmids = tqdm(pmids)\n",
    "    else:\n",
    "        iter_pmids = pmids\n",
    "    \n",
    "    for pmid in iter_pmids:\n",
    "        p = Publication(pmid, datadir=jsondir)\n",
    "        p.parse_sections()\n",
    "        if 'TABLE' in p.sections and 'coordinate' in p.sections['TABLE'].lower():\n",
    "            tabledata[str(pmid)] = p.sections['TABLE']\n",
    "\n",
    "    return tabledata\n",
    "\n"
   ]
  },
  {
   "cell_type": "code",
   "execution_count": 4,
   "metadata": {},
   "outputs": [
    {
     "name": "stdout",
     "output_type": "stream",
     "text": [
      "loaded 4996 responses from file\n"
     ]
    }
   ],
   "source": [
    "if (datadir / 'coordinate_extraction/coord_results_llama3.json').exists():\n",
    "    with open(datadir / 'coordinate_extraction/coord_results_llama3.json', 'r') as f:\n",
    "        responses = json.load(f)\n",
    "    print(f'loaded {len(responses)} responses from file')\n",
    "else:\n",
    "    responses = {}"
   ]
  },
  {
   "cell_type": "code",
   "execution_count": 5,
   "metadata": {},
   "outputs": [],
   "source": [
    "def process_pmid(pmid, tbldata, max_tries=3):\n",
    "    prompt = get_messages(get_coord_prompt(tbldata))\n",
    "    ntries = 0\n",
    "    while ntries < max_tries:\n",
    "        try:\n",
    "            result = chat(prompt, temperature=0.0)\n",
    "            return (pmid, result)\n",
    "        except Exception as e:\n",
    "            ntries += 1\n",
    "            print(f\"Error processing {pmid}: {e}\")\n",
    "            print(f\"Retrying {ntries} of {max_tries}...\")\n",
    "            # wait 500 ms\n",
    "            time.sleep(0.5)\n",
    "    return None\n"
   ]
  },
  {
   "cell_type": "code",
   "execution_count": 15,
   "metadata": {},
   "outputs": [
    {
     "name": "stdout",
     "output_type": "stream",
     "text": [
      "processing 953 papers\n"
     ]
    },
    {
     "data": {
      "application/vnd.jupyter.widget-view+json": {
       "model_id": "c1c669561ec14b0eb1b80857b3d1eedb",
       "version_major": 2,
       "version_minor": 0
      },
      "text/plain": [
       "llama3:   0%|          | 0/953 [00:00<?, ?it/s]"
      ]
     },
     "metadata": {},
     "output_type": "display_data"
    },
    {
     "name": "stdout",
     "output_type": "stream",
     "text": [
      "Error processing 7929989: Expecting value: line 42 column 27 (char 973)\n",
      "Retrying 1 of 3...\n",
      "Error processing 4600370: Extra data: line 2 column 1 (char 3)\n",
      "Retrying 1 of 3...\n",
      "Error processing 6382927: Expecting value: line 17 column 10 (char 351)\n",
      "Retrying 1 of 3...\n",
      "Error processing 4600370: Extra data: line 2 column 1 (char 3)\n",
      "Retrying 2 of 3...\n",
      "Error processing 7929989: Expecting value: line 42 column 27 (char 973)\n",
      "Retrying 2 of 3...\n",
      "Error processing 3040725: Expecting value: line 94 column 14 (char 2354)\n",
      "Retrying 1 of 3...\n",
      "Error processing 4174863: Expecting value: line 74 column 18 (char 1965)\n",
      "Retrying 1 of 3...\n",
      "Error processing 4600370: Extra data: line 2 column 1 (char 3)\n",
      "Retrying 3 of 3...\n",
      "Error processing 6382927: Expecting value: line 17 column 10 (char 351)\n",
      "Retrying 2 of 3...\n",
      "Error processing 6382927: Expecting value: line 17 column 10 (char 351)\n",
      "Retrying 3 of 3...\n",
      "Error processing 7929989: Expecting value: line 42 column 27 (char 973)\n",
      "Retrying 3 of 3...\n",
      "Error processing 5315540: Invalid \\escape: line 327 column 24 (char 7224)\n",
      "Retrying 1 of 3...\n",
      "Error processing 3040725: Expecting value: line 94 column 14 (char 2354)\n",
      "Retrying 2 of 3...\n",
      "Error processing 7008231: Expecting value: line 229 column 27 (char 5747)\n",
      "Retrying 1 of 3...\n",
      "Error processing 4174863: Expecting value: line 74 column 18 (char 1965)\n",
      "Retrying 2 of 3...\n",
      "Error processing 3040725: Expecting value: line 94 column 14 (char 2354)\n",
      "Retrying 3 of 3...\n",
      "Error processing 5315540: Invalid \\escape: line 327 column 24 (char 7224)\n",
      "Retrying 2 of 3...\n",
      "Error processing 4174863: Expecting value: line 74 column 18 (char 1965)\n",
      "Retrying 3 of 3...\n",
      "Error processing 5315540: Invalid \\escape: line 327 column 24 (char 7224)\n",
      "Retrying 3 of 3...\n",
      "Error processing 7008231: Expecting value: line 229 column 27 (char 5747)\n",
      "Retrying 2 of 3...\n",
      "Error processing 7008231: Expecting value: line 229 column 27 (char 5747)\n",
      "Retrying 3 of 3...\n",
      "Error processing 10623710: Expecting value: line 224 column 14 (char 5049)\n",
      "Retrying 1 of 3...\n",
      "Error processing 6317866: Error code: 503 - The server is overloaded or not ready yet.\n",
      "Retrying 1 of 3...\n",
      "Error processing 9990513: Error code: 503 - The server is overloaded or not ready yet.\n",
      "Retrying 1 of 3...\n",
      "Error processing 6317866: Unterminated string starting at: line 3535 column 21 (char 118206)\n",
      "Retrying 2 of 3...\n",
      "Error processing 9990513: Error code: 503 - The server is overloaded or not ready yet.\n",
      "Retrying 2 of 3...\n",
      "Error processing 6317866: Error code: 503 - The server is overloaded or not ready yet.\n",
      "Retrying 3 of 3...\n",
      "Error processing 9990513: Error code: 503 - The server is overloaded or not ready yet.\n",
      "Retrying 3 of 3...\n"
     ]
    }
   ],
   "source": [
    "n_papers_to_process = 2500\n",
    "# pmids need to be strings for json keys\n",
    "pmids = [str(i) for i in all_pmids if str(i) not in responses][:n_papers_to_process]\n",
    "tabledata = get_tabledata(pmids, jsondir)\n",
    "print(f'processing {len(pmids)} papers')\n",
    "\n",
    "# results = Parallel(n_jobs=10)(\n",
    "#     delayed(process_pmid)(pmid, responses, tabledata) \n",
    "#     for pmid in pmids\n",
    "# )\n",
    "\n",
    "\n",
    "with tqdm_joblib(desc=\"llama3\", total=len(pmids)) as progress_bar:\n",
    "    results = Parallel(n_jobs=24)(delayed(process_pmid)(pmid, tabledata[pmid]) for pmid in pmids)\n",
    "\n",
    "for result in results:\n",
    "    if result is not None:\n",
    "        pmid, response = result\n",
    "        responses[pmid] = response\n",
    "\n",
    "with open(datadir / 'coordinate_extraction/coord_results_llama3.json', 'w') as f:\n",
    "    json.dump(responses, f, indent=4)\n"
   ]
  },
  {
   "cell_type": "code",
   "execution_count": 16,
   "metadata": {},
   "outputs": [
    {
     "data": {
      "text/plain": [
       "13412"
      ]
     },
     "execution_count": 16,
     "metadata": {},
     "output_type": "execute_result"
    }
   ],
   "source": [
    "len(responses)"
   ]
  },
  {
   "cell_type": "code",
   "execution_count": 8,
   "metadata": {},
   "outputs": [
    {
     "data": {
      "text/plain": [
       "7490"
      ]
     },
     "execution_count": 8,
     "metadata": {},
     "output_type": "execute_result"
    }
   ],
   "source": [
    "len(responses)"
   ]
  }
 ],
 "metadata": {
  "kernelspec": {
   "display_name": ".venv",
   "language": "python",
   "name": "python3"
  },
  "language_info": {
   "codemirror_mode": {
    "name": "ipython",
    "version": 3
   },
   "file_extension": ".py",
   "mimetype": "text/x-python",
   "name": "python",
   "nbconvert_exporter": "python",
   "pygments_lexer": "ipython3",
   "version": "3.12.0"
  }
 },
 "nbformat": 4,
 "nbformat_minor": 2
}
