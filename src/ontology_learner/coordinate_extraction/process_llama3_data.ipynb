{
 "cells": [
  {
   "cell_type": "markdown",
   "metadata": {},
   "source": [
    "Convert results from llama3 into data frame"
   ]
  },
  {
   "cell_type": "code",
   "execution_count": 1,
   "metadata": {},
   "outputs": [
    {
     "name": "stdout",
     "output_type": "stream",
     "text": [
      "/Users/poldrack/Dropbox/data/ontology-learner/data\n"
     ]
    }
   ],
   "source": [
    "import json\n",
    "from pathlib import Path\n",
    "from ontology_learner.publication import Publication\n",
    "from dotenv import load_dotenv\n",
    "import os\n",
    "\n",
    "import pandas as pd\n",
    "\n",
    "load_dotenv()\n",
    "api_key = os.getenv(\"OPENAI\")\n",
    "\n",
    "datadir = Path(os.getenv('DATADIR'))\n",
    "print(datadir)\n",
    "\n",
    "jsondir = datadir / 'json'\n",
    "\n",
    "\n",
    "def get_messages(prompt):\n",
    "    return [\n",
    "        {\"role\": \"system\", \"content\": \"You are an expert in neuroimaging research.\"},\n",
    "        {\"role\": \"user\", \"content\": prompt}\n",
    "    ]\n",
    "\n"
   ]
  },
  {
   "cell_type": "code",
   "execution_count": 2,
   "metadata": {},
   "outputs": [
    {
     "name": "stdout",
     "output_type": "stream",
     "text": [
      "loaded 13412 responses from file\n"
     ]
    }
   ],
   "source": [
    "with open(datadir / 'coordinate_extraction/coord_results_llama3.json', 'r') as f:\n",
    "    responses = json.load(f)\n",
    "print(f'loaded {len(responses)} responses from file')\n"
   ]
  },
  {
   "cell_type": "markdown",
   "metadata": {},
   "source": [
    "### Process extracted coordinates"
   ]
  },
  {
   "cell_type": "code",
   "execution_count": 3,
   "metadata": {},
   "outputs": [
    {
     "name": "stdout",
     "output_type": "stream",
     "text": [
      "found 13404 tables with coordinates in 13412 tables\n"
     ]
    }
   ],
   "source": [
    "coord_results_clean = {k: v for k, v in responses.items() if len(v) > 0}\n",
    "print(f'found {len(coord_results_clean)} tables with coordinates in {len(responses)} tables')\n",
    "\n"
   ]
  },
  {
   "cell_type": "code",
   "execution_count": 4,
   "metadata": {},
   "outputs": [
    {
     "name": "stdout",
     "output_type": "stream",
     "text": [
      "13404 results of 13404 are lists of dictionaries\n",
      "found 311961 good coordinates out of 311961 total coordinates\n",
      "found 311256 coordinates with contrast out of 311961 total coordinates\n",
      "found 216950 coordinates with cluster size out of 311961 total coordinates\n",
      "found 307747 coordinates with label out of 311961 total coordinates\n",
      "found 263440 coordinates with statistic type out of 311961 total coordinates\n",
      "found 262532 coordinates with statistic value out of 311961 total coordinates\n",
      "found 290972 coordinates with coordinate type out of 311961 total coordinates\n"
     ]
    }
   ],
   "source": [
    "# check if the result is a list of dictionaries\n",
    "result_is_dict = [isinstance(coord_results_clean[k], list) for k in coord_results_clean.keys()]\n",
    "print(f'{sum(result_is_dict)} results of {len(coord_results_clean)} are lists of dictionaries')\n",
    "\n",
    "def is_good_coord(coord):\n",
    "    return 'x' in coord and 'y' in coord and 'z' in coord\n",
    "\n",
    "all_coords = []\n",
    "good_coords = []\n",
    "coords_with_contrast = []\n",
    "coords_with_cluster_size = []\n",
    "coords_with_label = []\n",
    "coords_with_statistic_type = []\n",
    "coords_with_statistic_value = []\n",
    "coords_with_coordinate_type = []\n",
    "coords_list = []\n",
    "\n",
    "for k, v in coord_results_clean.items():\n",
    "    for coord_dict in v:\n",
    "        all_coords.append(coord_dict)\n",
    "        contrast, x, y, z, cluster_size, label, statistic, coordinate_type = None, None, None, None, None, None, None, None\n",
    "        if is_good_coord(coord_dict):\n",
    "            good_coords.append(coord_dict)\n",
    "            x, y, z = coord_dict['x'], coord_dict['y'], coord_dict['z']\n",
    "        if 'contrast' in coord_dict and coord_dict['contrast'] is not None:\n",
    "            contrast = coord_dict['contrast']\n",
    "            coords_with_contrast.append(coord_dict)\n",
    "        if 'cluster_size' in coord_dict and coord_dict['cluster_size'] is not None:\n",
    "            cluster_size = coord_dict['cluster_size']\n",
    "            coords_with_cluster_size.append(coord_dict)\n",
    "        if 'label' in coord_dict and coord_dict['label'] is not None:\n",
    "            label = coord_dict['label']\n",
    "            coords_with_label.append(coord_dict)\n",
    "        if 'statistic_type' in coord_dict and coord_dict['statistic_type'] is not None:\n",
    "            statistic_type = coord_dict['statistic_type']\n",
    "            coords_with_statistic_type.append(coord_dict)\n",
    "        if 'statistic_value' in coord_dict and coord_dict['statistic_value'] is not None:\n",
    "            statistic_value = coord_dict['statistic_value']\n",
    "            coords_with_statistic_value.append(coord_dict)\n",
    "        if 'coordinate_type' in coord_dict and coord_dict['coordinate_type'] is not None:\n",
    "            coordinate_type = coord_dict['coordinate_type']\n",
    "            coords_with_coordinate_type.append(coord_dict)\n",
    "        coords_list.append({\n",
    "            'pmid': k,\n",
    "            'contrast': contrast,\n",
    "            'x': x,\n",
    "            'y': y,\n",
    "            'z': z,\n",
    "            'cluster_size': cluster_size,\n",
    "            'label': label,\n",
    "            'statistic_type': statistic_type,\n",
    "            'statistic_value': statistic_value,\n",
    "            'coordinate_type': coordinate_type\n",
    "        })\n",
    "\n",
    "print(f'found {len(good_coords)} good coordinates out of {len(all_coords)} total coordinates')\n",
    "print(f'found {len(coords_with_contrast)} coordinates with contrast out of {len(all_coords)} total coordinates')\n",
    "print(f'found {len(coords_with_cluster_size)} coordinates with cluster size out of {len(all_coords)} total coordinates')\n",
    "print(f'found {len(coords_with_label)} coordinates with label out of {len(all_coords)} total coordinates')\n",
    "print(f'found {len(coords_with_statistic_type)} coordinates with statistic type out of {len(all_coords)} total coordinates')\n",
    "print(f'found {len(coords_with_statistic_value)} coordinates with statistic value out of {len(all_coords)} total coordinates')\n",
    "print(f'found {len(coords_with_coordinate_type)} coordinates with coordinate type out of {len(all_coords)} total coordinates')\n"
   ]
  },
  {
   "cell_type": "code",
   "execution_count": 5,
   "metadata": {},
   "outputs": [
    {
     "data": {
      "text/html": [
       "<div>\n",
       "<style scoped>\n",
       "    .dataframe tbody tr th:only-of-type {\n",
       "        vertical-align: middle;\n",
       "    }\n",
       "\n",
       "    .dataframe tbody tr th {\n",
       "        vertical-align: top;\n",
       "    }\n",
       "\n",
       "    .dataframe thead th {\n",
       "        text-align: right;\n",
       "    }\n",
       "</style>\n",
       "<table border=\"1\" class=\"dataframe\">\n",
       "  <thead>\n",
       "    <tr style=\"text-align: right;\">\n",
       "      <th></th>\n",
       "      <th>pmid</th>\n",
       "      <th>contrast</th>\n",
       "      <th>x</th>\n",
       "      <th>y</th>\n",
       "      <th>z</th>\n",
       "      <th>cluster_size</th>\n",
       "      <th>label</th>\n",
       "      <th>statistic_type</th>\n",
       "      <th>statistic_value</th>\n",
       "      <th>coordinate_type</th>\n",
       "      <th>pmcid</th>\n",
       "    </tr>\n",
       "  </thead>\n",
       "  <tbody>\n",
       "    <tr>\n",
       "      <th>0</th>\n",
       "      <td>12828789</td>\n",
       "      <td>Rate Effect</td>\n",
       "      <td>-64</td>\n",
       "      <td>-16</td>\n",
       "      <td>8</td>\n",
       "      <td>386</td>\n",
       "      <td>HG</td>\n",
       "      <td>Z</td>\n",
       "      <td>10</td>\n",
       "      <td>MNI</td>\n",
       "      <td>166149</td>\n",
       "    </tr>\n",
       "    <tr>\n",
       "      <th>1</th>\n",
       "      <td>12828789</td>\n",
       "      <td>Rate Effect</td>\n",
       "      <td>-60</td>\n",
       "      <td>-4</td>\n",
       "      <td>4</td>\n",
       "      <td>None</td>\n",
       "      <td>PP</td>\n",
       "      <td>Z</td>\n",
       "      <td>7.7</td>\n",
       "      <td>MNI</td>\n",
       "      <td>166149</td>\n",
       "    </tr>\n",
       "    <tr>\n",
       "      <th>2</th>\n",
       "      <td>12828789</td>\n",
       "      <td>Rate Effect</td>\n",
       "      <td>-44</td>\n",
       "      <td>-28</td>\n",
       "      <td>12</td>\n",
       "      <td>None</td>\n",
       "      <td>PT</td>\n",
       "      <td>Z</td>\n",
       "      <td>7.6</td>\n",
       "      <td>MNI</td>\n",
       "      <td>166149</td>\n",
       "    </tr>\n",
       "    <tr>\n",
       "      <th>3</th>\n",
       "      <td>12828789</td>\n",
       "      <td>Rate Effect</td>\n",
       "      <td>56</td>\n",
       "      <td>-8</td>\n",
       "      <td>-4</td>\n",
       "      <td>430</td>\n",
       "      <td>PP</td>\n",
       "      <td>Z</td>\n",
       "      <td>7.1</td>\n",
       "      <td>MNI</td>\n",
       "      <td>166149</td>\n",
       "    </tr>\n",
       "    <tr>\n",
       "      <th>4</th>\n",
       "      <td>12828789</td>\n",
       "      <td>Rate Effect</td>\n",
       "      <td>64</td>\n",
       "      <td>-20</td>\n",
       "      <td>12</td>\n",
       "      <td>None</td>\n",
       "      <td>HG</td>\n",
       "      <td>Z</td>\n",
       "      <td>7.0</td>\n",
       "      <td>MNI</td>\n",
       "      <td>166149</td>\n",
       "    </tr>\n",
       "  </tbody>\n",
       "</table>\n",
       "</div>"
      ],
      "text/plain": [
       "       pmid     contrast    x    y   z cluster_size label statistic_type  \\\n",
       "0  12828789  Rate Effect  -64  -16   8          386    HG              Z   \n",
       "1  12828789  Rate Effect  -60   -4   4         None    PP              Z   \n",
       "2  12828789  Rate Effect  -44  -28  12         None    PT              Z   \n",
       "3  12828789  Rate Effect   56   -8  -4          430    PP              Z   \n",
       "4  12828789  Rate Effect   64  -20  12         None    HG              Z   \n",
       "\n",
       "  statistic_value coordinate_type   pmcid  \n",
       "0              10             MNI  166149  \n",
       "1             7.7             MNI  166149  \n",
       "2             7.6             MNI  166149  \n",
       "3             7.1             MNI  166149  \n",
       "4             7.0             MNI  166149  "
      ]
     },
     "execution_count": 5,
     "metadata": {},
     "output_type": "execute_result"
    }
   ],
   "source": [
    "coords_df = pd.DataFrame(coords_list)\n",
    "\n",
    "# fix the pmid column\n",
    "coords_df['pmcid'] = coords_df['pmid'].astype(str)\n",
    "\n",
    "# add a pmid column\n",
    "pmcid_to_pmid = json.load(open(datadir / 'pmcid_to_pmid.json', 'r'))\n",
    "coords_df['pmid'] = coords_df['pmcid'].map(pmcid_to_pmid)\n",
    "\n",
    "coords_df.head()"
   ]
  },
  {
   "cell_type": "code",
   "execution_count": 6,
   "metadata": {},
   "outputs": [
    {
     "name": "stdout",
     "output_type": "stream",
     "text": [
      "cleaup removed 1574 rows out of 311961 (310387 rows remaining)\n"
     ]
    }
   ],
   "source": [
    "full_length = len(coords_df)\n",
    "# remove rows with missing x/y/z coords\n",
    "coords_df = coords_df[coords_df['x'].notna() & coords_df['y'].notna() & coords_df['z'].notna()]\n",
    "\n",
    "# remove rows with x/y/z as lists\n",
    "coords_df = coords_df[~coords_df['x'].apply(lambda x: isinstance(x, list))]\n",
    "\n",
    "# remove rows with x/y/z values that are not numbers\n",
    "coords_df = coords_df[coords_df['x'].apply(lambda x: isinstance(x, (int, float)))]\n",
    "coords_df = coords_df[coords_df['y'].apply(lambda x: isinstance(x, (int, float)))]\n",
    "coords_df = coords_df[coords_df['z'].apply(lambda x: isinstance(x, (int, float)))]\n",
    "\n",
    "# remove rows with x/y/z values that are outside of the range of -200 to 200\n",
    "coords_df = coords_df[coords_df['x'].apply(lambda x: x >= -200 and x <= 200)]\n",
    "coords_df = coords_df[coords_df['y'].apply(lambda x: x >= -200 and x <= 200)]\n",
    "coords_df = coords_df[coords_df['z'].apply(lambda x: x >= -200 and x <= 200)]\n",
    "\n",
    "\n",
    "print(f'cleaup removed {full_length - len(coords_df)} rows out of {full_length} ({len(coords_df)} rows remaining)')\n",
    "\n",
    "coords_df.to_csv(datadir / 'coordinate_extraction/coords_df_llama3.csv', index=False)\n"
   ]
  }
 ],
 "metadata": {
  "kernelspec": {
   "display_name": ".venv",
   "language": "python",
   "name": "python3"
  },
  "language_info": {
   "codemirror_mode": {
    "name": "ipython",
    "version": 3
   },
   "file_extension": ".py",
   "mimetype": "text/x-python",
   "name": "python",
   "nbconvert_exporter": "python",
   "pygments_lexer": "ipython3",
   "version": "3.12.0"
  }
 },
 "nbformat": 4,
 "nbformat_minor": 2
}
