{
 "cells": [
  {
   "cell_type": "markdown",
   "metadata": {},
   "source": [
    "Try to extract coordinates from tables"
   ]
  },
  {
   "cell_type": "code",
   "execution_count": 3,
   "metadata": {},
   "outputs": [
    {
     "name": "stdout",
     "output_type": "stream",
     "text": [
      "The autoreload extension is already loaded. To reload it, use:\n",
      "  %reload_ext autoreload\n",
      "/Users/poldrack/Dropbox/data/ontology-learner/data\n"
     ]
    }
   ],
   "source": [
    "%load_ext autoreload\n",
    "%autoreload 2\n",
    "\n",
    "import json\n",
    "import shutil \n",
    "from pathlib import Path\n",
    "from ontology_learner.publication import Publication\n",
    "from tqdm import tqdm\n",
    "from llm_query.chat_client import ChatClientFactory\n",
    "from dotenv import load_dotenv\n",
    "import os\n",
    "from ontology_learner.gpt4_direct.gpt_term_mining import (\n",
    "    mk_batch_script,\n",
    "    run_batch_request,\n",
    "    wait_for_batch_completion,\n",
    "    get_batch_results,\n",
    "    save_batch_results,\n",
    "    )\n",
    "from ontology_learner.json_utils import get_jsonl_file, parse_jsonl_results, load_jsonl\n",
    "import numpy as np\n",
    "import pandas as pd\n",
    "from icecream import ic\n",
    "import seaborn as sns\n",
    "import matplotlib.pyplot as plt\n",
    "from ontology_learner.coordinate_extraction.extraction_utils import get_coord_prompt\n",
    "\n",
    "load_dotenv()\n",
    "api_key = os.getenv(\"OPENAI\")\n",
    "\n",
    "datadir = Path(os.getenv('DATADIR'))\n",
    "print(datadir)\n",
    "\n",
    "client = ChatClientFactory.create_client(\"openai\", model=\"gpt-4o\", \n",
    "                                         api_key=api_key,\n",
    "                                         temperature=0)\n",
    "\n",
    "jsondir = datadir / 'json'\n",
    "\n",
    "\n",
    "\n"
   ]
  },
  {
   "cell_type": "code",
   "execution_count": 4,
   "metadata": {},
   "outputs": [
    {
     "data": {
      "text/plain": [
       "132257"
      ]
     },
     "execution_count": 4,
     "metadata": {},
     "output_type": "execute_result"
    }
   ],
   "source": [
    "jsonfiles = list(jsondir.glob('*.json'))\n",
    "pmids = sorted([f.stem for f in jsonfiles])\n",
    "len(pmids)\n"
   ]
  },
  {
   "cell_type": "code",
   "execution_count": 5,
   "metadata": {},
   "outputs": [
    {
     "name": "stdout",
     "output_type": "stream",
     "text": [
      "loading tabledata from file\n",
      "loaded 14635 tables\n"
     ]
    }
   ],
   "source": [
    "\n",
    "if not (datadir / 'coordinate_extraction/tabledata.json').exists():\n",
    "    tabledata = {}\n",
    "\n",
    "    for pmid in tqdm(pmids):\n",
    "        p = Publication(pmid, datadir=jsondir)\n",
    "        p.parse_sections()\n",
    "        if 'TABLE' in p.sections and 'coordinate' in p.sections['TABLE'].lower():\n",
    "            tabledata[pmid] = p.sections['TABLE']\n",
    "\n",
    "    with open(datadir / 'coordinate_extraction/tabledata.json', 'w') as f:\n",
    "        json.dump(tabledata, f, indent=4)\n",
    "\n",
    "else:\n",
    "    print('loading tabledata from file')\n",
    "    with open(datadir / 'coordinate_extraction/tabledata.json', 'r') as f:\n",
    "        tabledata = json.load(f)\n",
    "\n",
    "print(f'loaded {len(tabledata)} tables')"
   ]
  },
  {
   "cell_type": "code",
   "execution_count": 6,
   "metadata": {},
   "outputs": [
    {
     "name": "stdout",
     "output_type": "stream",
     "text": [
      "found 14632 processed pmids and 3 unprocessed pmids out of 14635 total\n"
     ]
    }
   ],
   "source": [
    "def get_processed_pmids(coordinate_mining_dir):\n",
    "    processed_pmids = []\n",
    "    for f in coordinate_mining_dir.glob('*.jsonl'):\n",
    "        json_data = load_jsonl(f)\n",
    "        for item in json_data:\n",
    "            processed_pmids.append(item['custom_id'])\n",
    "    return processed_pmids\n",
    "\n",
    "\n",
    "coordinate_mining_dir = datadir / 'coordinate_extraction/gpt4_results'\n",
    "batchfile_dir = datadir / 'coordinate_extraction/gpt4_batchfiles'\n",
    "coordinate_mining_dir.mkdir(exist_ok=True, parents=True)\n",
    "batchfile_dir.mkdir(exist_ok=True, parents=True)\n",
    "\n",
    "processed_pmids = get_processed_pmids(coordinate_mining_dir)\n",
    "unprocessed_pmids = [pmid for pmid in tabledata.keys() if pmid not in processed_pmids]\n",
    "print(f'found {len(processed_pmids)} processed pmids and {len(unprocessed_pmids)} unprocessed pmids out of {len(tabledata)} total')\n"
   ]
  },
  {
   "cell_type": "code",
   "execution_count": 7,
   "metadata": {},
   "outputs": [],
   "source": [
    "\n",
    "n_papers_to_process = 4500\n",
    "custom_ids = unprocessed_pmids[:n_papers_to_process]\n",
    "tabledata_list = [tabledata[pmid] for pmid in custom_ids]\n",
    "batchfile = datadir / 'coordinate_extraction/gpt4_coordinate_extraction_batch.jsonl'\n",
    "run_batch = False\n",
    "\n",
    "\n",
    "if run_batch:\n",
    "    mk_batch_script(batchfile, tabledata_list, get_coord_prompt, custom_ids=custom_ids, overwrite=True)\n",
    "    batch_metadata, batch_client = run_batch_request(batchfile, 'coordinate_extraction')\n",
    "\n",
    "    wait_for_batch_completion(batch_metadata, batch_client)\n",
    "    batch_results = get_batch_results(batch_client, batch_metadata.id)\n",
    "    shutil.move(batchfile, batchfile_dir / f'{batch_metadata.id}_cmds.jsonl')\n",
    "    outfile = save_batch_results(batch_results, batch_metadata.id, coordinate_mining_dir)"
   ]
  },
  {
   "cell_type": "code",
   "execution_count": 8,
   "metadata": {},
   "outputs": [
    {
     "name": "stdout",
     "output_type": "stream",
     "text": [
      "found 14168 coordinate results\n"
     ]
    }
   ],
   "source": [
    "\n",
    "coordinate_mining_files = list(coordinate_mining_dir.glob('*.jsonl'))\n",
    "coord_results = {}\n",
    "for coordinate_mining_file in coordinate_mining_files:\n",
    "    coord_results.update(parse_jsonl_results(load_jsonl(coordinate_mining_file)))\n",
    "\n",
    "print(f'found {len(coord_results)} coordinate results')\n",
    "\n",
    "with open(datadir / 'coordinate_extraction/coord_results_gpt4.json', 'w') as f:\n",
    "    json.dump(coord_results, f, indent=4)\n"
   ]
  },
  {
   "cell_type": "markdown",
   "metadata": {},
   "source": [
    "### Process extracted coordinates"
   ]
  },
  {
   "cell_type": "code",
   "execution_count": 9,
   "metadata": {},
   "outputs": [
    {
     "name": "stdout",
     "output_type": "stream",
     "text": [
      "found 13431 tables with coordinates in 14168 tables\n"
     ]
    }
   ],
   "source": [
    "coord_results_clean = {k: v for k, v in coord_results.items() if len(v) > 0}\n",
    "print(f'found {len(coord_results_clean)} tables with coordinates in {len(coord_results)} tables')\n",
    "\n"
   ]
  },
  {
   "cell_type": "code",
   "execution_count": 10,
   "metadata": {},
   "outputs": [
    {
     "name": "stdout",
     "output_type": "stream",
     "text": [
      "13431 results of 13431 are lists of dictionaries\n",
      "found 289358 good coordinates out of 289358 total coordinates\n",
      "found 281573 coordinates with contrast out of 289358 total coordinates\n",
      "found 201620 coordinates with cluster size out of 289358 total coordinates\n",
      "found 287437 coordinates with label out of 289358 total coordinates\n",
      "found 243105 coordinates with statistic type out of 289358 total coordinates\n",
      "found 243543 coordinates with statistic value out of 289358 total coordinates\n",
      "found 275777 coordinates with coordinate type out of 289358 total coordinates\n"
     ]
    }
   ],
   "source": [
    "# check if the result is a list of dictionaries\n",
    "result_is_dict = [isinstance(coord_results_clean[k], list) for k in coord_results_clean.keys()]\n",
    "print(f'{sum(result_is_dict)} results of {len(coord_results_clean)} are lists of dictionaries')\n",
    "\n",
    "def is_good_coord(coord):\n",
    "    return 'x' in coord and 'y' in coord and 'z' in coord\n",
    "\n",
    "all_coords = []\n",
    "good_coords = []\n",
    "coords_with_contrast = []\n",
    "coords_with_cluster_size = []\n",
    "coords_with_label = []\n",
    "coords_with_statistic_type = []\n",
    "coords_with_statistic_value = []\n",
    "coords_with_coordinate_type = []\n",
    "coords_list = []\n",
    "\n",
    "for k, v in coord_results_clean.items():\n",
    "    for coord_dict in v:\n",
    "        all_coords.append(coord_dict)\n",
    "        contrast, x, y, z, cluster_size, label, statistic, coordinate_type = None, None, None, None, None, None, None, None\n",
    "        if is_good_coord(coord_dict):\n",
    "            good_coords.append(coord_dict)\n",
    "            x, y, z = coord_dict['x'], coord_dict['y'], coord_dict['z']\n",
    "        if 'contrast' in coord_dict and coord_dict['contrast'] is not None:\n",
    "            contrast = coord_dict['contrast']\n",
    "            coords_with_contrast.append(coord_dict)\n",
    "        if 'cluster_size' in coord_dict and coord_dict['cluster_size'] is not None:\n",
    "            cluster_size = coord_dict['cluster_size']\n",
    "            coords_with_cluster_size.append(coord_dict)\n",
    "        if 'label' in coord_dict and coord_dict['label'] is not None:\n",
    "            label = coord_dict['label']\n",
    "            coords_with_label.append(coord_dict)\n",
    "        if 'statistic_type' in coord_dict and coord_dict['statistic_type'] is not None:\n",
    "            statistic_type = coord_dict['statistic_type']\n",
    "            coords_with_statistic_type.append(coord_dict)\n",
    "        if 'statistic_value' in coord_dict and coord_dict['statistic_value'] is not None:\n",
    "            statistic_value = coord_dict['statistic_value']\n",
    "            coords_with_statistic_value.append(coord_dict)\n",
    "        if 'coordinate_type' in coord_dict and coord_dict['coordinate_type'] is not None:\n",
    "            coordinate_type = coord_dict['coordinate_type']\n",
    "            coords_with_coordinate_type.append(coord_dict)\n",
    "        coords_list.append({\n",
    "            'pmid': k,\n",
    "            'contrast': contrast,\n",
    "            'x': x,\n",
    "            'y': y,\n",
    "            'z': z,\n",
    "            'cluster_size': cluster_size,\n",
    "            'label': label,\n",
    "            'statistic_type': statistic_type,\n",
    "            'statistic_value': statistic_value,\n",
    "            'coordinate_type': coordinate_type\n",
    "        })\n",
    "\n",
    "print(f'found {len(good_coords)} good coordinates out of {len(all_coords)} total coordinates')\n",
    "print(f'found {len(coords_with_contrast)} coordinates with contrast out of {len(all_coords)} total coordinates')\n",
    "print(f'found {len(coords_with_cluster_size)} coordinates with cluster size out of {len(all_coords)} total coordinates')\n",
    "print(f'found {len(coords_with_label)} coordinates with label out of {len(all_coords)} total coordinates')\n",
    "print(f'found {len(coords_with_statistic_type)} coordinates with statistic type out of {len(all_coords)} total coordinates')\n",
    "print(f'found {len(coords_with_statistic_value)} coordinates with statistic value out of {len(all_coords)} total coordinates')\n",
    "print(f'found {len(coords_with_coordinate_type)} coordinates with coordinate type out of {len(all_coords)} total coordinates')\n"
   ]
  },
  {
   "cell_type": "markdown",
   "metadata": {},
   "source": [
    "### convert to a single coordinate list"
   ]
  },
  {
   "cell_type": "code",
   "execution_count": 11,
   "metadata": {},
   "outputs": [
    {
     "data": {
      "text/html": [
       "<div>\n",
       "<style scoped>\n",
       "    .dataframe tbody tr th:only-of-type {\n",
       "        vertical-align: middle;\n",
       "    }\n",
       "\n",
       "    .dataframe tbody tr th {\n",
       "        vertical-align: top;\n",
       "    }\n",
       "\n",
       "    .dataframe thead th {\n",
       "        text-align: right;\n",
       "    }\n",
       "</style>\n",
       "<table border=\"1\" class=\"dataframe\">\n",
       "  <thead>\n",
       "    <tr style=\"text-align: right;\">\n",
       "      <th></th>\n",
       "      <th>pmid</th>\n",
       "      <th>contrast</th>\n",
       "      <th>x</th>\n",
       "      <th>y</th>\n",
       "      <th>z</th>\n",
       "      <th>cluster_size</th>\n",
       "      <th>label</th>\n",
       "      <th>statistic_type</th>\n",
       "      <th>statistic_value</th>\n",
       "      <th>coordinate_type</th>\n",
       "      <th>pmcid</th>\n",
       "    </tr>\n",
       "  </thead>\n",
       "  <tbody>\n",
       "    <tr>\n",
       "      <th>0</th>\n",
       "      <td>21982930</td>\n",
       "      <td>Delta+ high TAS &gt; Delta+ low TAS</td>\n",
       "      <td>-18.0</td>\n",
       "      <td>-61.0</td>\n",
       "      <td>41.0</td>\n",
       "      <td>8064</td>\n",
       "      <td>precuneus</td>\n",
       "      <td>F</td>\n",
       "      <td>15.32</td>\n",
       "      <td>None</td>\n",
       "      <td>3256346</td>\n",
       "    </tr>\n",
       "    <tr>\n",
       "      <th>1</th>\n",
       "      <td>21982930</td>\n",
       "      <td>Delta+ high TAS &gt; Delta+ low TAS</td>\n",
       "      <td>-48.0</td>\n",
       "      <td>-44.0</td>\n",
       "      <td>-3.0</td>\n",
       "      <td>3968</td>\n",
       "      <td>middle temporal gyrus</td>\n",
       "      <td>F</td>\n",
       "      <td>13.76</td>\n",
       "      <td>None</td>\n",
       "      <td>3256346</td>\n",
       "    </tr>\n",
       "    <tr>\n",
       "      <th>2</th>\n",
       "      <td>21982930</td>\n",
       "      <td>Delta+ high TAS &gt; Delta+ low TAS</td>\n",
       "      <td>-37.0</td>\n",
       "      <td>-10.0</td>\n",
       "      <td>-6.0</td>\n",
       "      <td>3904</td>\n",
       "      <td>insula</td>\n",
       "      <td>F</td>\n",
       "      <td>15.26</td>\n",
       "      <td>None</td>\n",
       "      <td>3256346</td>\n",
       "    </tr>\n",
       "    <tr>\n",
       "      <th>3</th>\n",
       "      <td>21982930</td>\n",
       "      <td>Delta+ high TAS &gt; Delta+ low TAS</td>\n",
       "      <td>-36.0</td>\n",
       "      <td>36.0</td>\n",
       "      <td>3.0</td>\n",
       "      <td>3776</td>\n",
       "      <td>inferior frontal gyrus</td>\n",
       "      <td>F</td>\n",
       "      <td>9.8</td>\n",
       "      <td>None</td>\n",
       "      <td>3256346</td>\n",
       "    </tr>\n",
       "    <tr>\n",
       "      <th>4</th>\n",
       "      <td>21982930</td>\n",
       "      <td>Delta+ high TAS &gt; Delta+ low TAS</td>\n",
       "      <td>53.0</td>\n",
       "      <td>-47.0</td>\n",
       "      <td>-4.0</td>\n",
       "      <td>2880</td>\n",
       "      <td>middle temporal gyrus</td>\n",
       "      <td>F</td>\n",
       "      <td>17.52</td>\n",
       "      <td>None</td>\n",
       "      <td>3256346</td>\n",
       "    </tr>\n",
       "  </tbody>\n",
       "</table>\n",
       "</div>"
      ],
      "text/plain": [
       "       pmid                          contrast     x     y     z cluster_size  \\\n",
       "0  21982930  Delta+ high TAS > Delta+ low TAS -18.0 -61.0  41.0         8064   \n",
       "1  21982930  Delta+ high TAS > Delta+ low TAS -48.0 -44.0  -3.0         3968   \n",
       "2  21982930  Delta+ high TAS > Delta+ low TAS -37.0 -10.0  -6.0         3904   \n",
       "3  21982930  Delta+ high TAS > Delta+ low TAS -36.0  36.0   3.0         3776   \n",
       "4  21982930  Delta+ high TAS > Delta+ low TAS  53.0 -47.0  -4.0         2880   \n",
       "\n",
       "                    label statistic_type statistic_value coordinate_type  \\\n",
       "0               precuneus              F           15.32            None   \n",
       "1   middle temporal gyrus              F           13.76            None   \n",
       "2                  insula              F           15.26            None   \n",
       "3  inferior frontal gyrus              F             9.8            None   \n",
       "4   middle temporal gyrus              F           17.52            None   \n",
       "\n",
       "     pmcid  \n",
       "0  3256346  \n",
       "1  3256346  \n",
       "2  3256346  \n",
       "3  3256346  \n",
       "4  3256346  "
      ]
     },
     "execution_count": 11,
     "metadata": {},
     "output_type": "execute_result"
    }
   ],
   "source": [
    "coords_df = pd.DataFrame(coords_list)\n",
    "# fix the pmid column\n",
    "coords_df['pmcid'] = coords_df['pmid'].astype(str)\n",
    "\n",
    "# add a pmid column\n",
    "pmcid_to_pmid = json.load(open(datadir / 'pmcid_to_pmid.json', 'r'))\n",
    "coords_df['pmid'] = coords_df['pmcid'].map(pmcid_to_pmid)\n",
    "coords_df.head()"
   ]
  },
  {
   "cell_type": "code",
   "execution_count": 12,
   "metadata": {},
   "outputs": [
    {
     "name": "stdout",
     "output_type": "stream",
     "text": [
      "cleaup removed 740 rows out of 289358 (288618 rows remaining)\n"
     ]
    }
   ],
   "source": [
    "full_length = len(coords_df)\n",
    "# remove rows with missing x/y/z coords\n",
    "coords_df = coords_df[coords_df['x'].notna() & coords_df['y'].notna() & coords_df['z'].notna()]\n",
    "\n",
    "# remove rows with x/y/z as lists\n",
    "coords_df = coords_df[~coords_df['x'].apply(lambda x: isinstance(x, list))]\n",
    "\n",
    "# remove rows with x/y/z values that are not numbers\n",
    "coords_df = coords_df[coords_df['x'].apply(lambda x: isinstance(x, (int, float)))]\n",
    "coords_df = coords_df[coords_df['y'].apply(lambda x: isinstance(x, (int, float)))]\n",
    "coords_df = coords_df[coords_df['z'].apply(lambda x: isinstance(x, (int, float)))]\n",
    "\n",
    "# remove rows with x/y/z values that are outside of the range of -200 to 200\n",
    "coords_df = coords_df[coords_df['x'].apply(lambda x: x >= -200 and x <= 200)]\n",
    "coords_df = coords_df[coords_df['y'].apply(lambda x: x >= -200 and x <= 200)]\n",
    "coords_df = coords_df[coords_df['z'].apply(lambda x: x >= -200 and x <= 200)]\n",
    "\n",
    "\n",
    "print(f'cleaup removed {full_length - len(coords_df)} rows out of {full_length} ({len(coords_df)} rows remaining)')\n",
    "\n",
    "coords_df.to_csv(datadir / 'coordinate_extraction/coords_df_gpt4.csv', index=False)"
   ]
  },
  {
   "cell_type": "code",
   "execution_count": 24,
   "metadata": {},
   "outputs": [
    {
     "name": "stdout",
     "output_type": "stream",
     "text": [
      "201396 rows with cluster size\n",
      "275374 rows with coordinate type\n",
      "288618 rows with statistic_type\n",
      "288618 rows with statistic_value\n",
      "286733 rows with label\n"
     ]
    }
   ],
   "source": [
    "# how many have cluster size\n",
    "print(f'{len(coords_df[coords_df[\"cluster_size\"].notna()])} rows with cluster size')\n",
    "\n",
    "# how many have coordinate type\n",
    "print(f'{len(coords_df[coords_df[\"coordinate_type\"].notna()])} rows with coordinate type')\n",
    "\n",
    "# how many have statistic\n",
    "print(f'{len(coords_df[coords_df[\"statistic_type\"].notna()])} rows with statistic_type')\n",
    "print(f'{len(coords_df[coords_df[\"statistic_value\"].notna()])} rows with statistic_value')\n",
    "# how many have label\n",
    "print(f'{len(coords_df[coords_df[\"label\"].notna()])} rows with label')\n"
   ]
  },
  {
   "cell_type": "code",
   "execution_count": 25,
   "metadata": {},
   "outputs": [
    {
     "data": {
      "text/plain": [
       "statistic_type\n",
       "t                      109379\n",
       "Z                       69405\n",
       "T                       36551\n",
       "z                       19320\n",
       "F                       13283\n",
       "                        ...  \n",
       "1-P                         1\n",
       "Value not specified         1\n",
       "TFCE Value                  1\n",
       "Maximum ALE score           1\n",
       "conjunction                 1\n",
       "Name: count, Length: 591, dtype: int64"
      ]
     },
     "execution_count": 25,
     "metadata": {},
     "output_type": "execute_result"
    }
   ],
   "source": [
    "coords_df.statistic_type.value_counts()"
   ]
  },
  {
   "cell_type": "code",
   "execution_count": 26,
   "metadata": {},
   "outputs": [
    {
     "name": "stdout",
     "output_type": "stream",
     "text": [
      "coordinate_type\n",
      "MNI                  218469\n",
      "Talairach             45637\n",
      "Unknown                1974\n",
      "unknown                1622\n",
      "Not specified           895\n",
      "                      ...  \n",
      "Brodmann areas 32         1\n",
      "SPM99(MNI)                1\n",
      "MNISPM99                  1\n",
      "MNI 305                   1\n",
      "Brodmann areas 11         1\n",
      "Name: count, Length: 192, dtype: int64\n"
     ]
    }
   ],
   "source": [
    "print(coords_df.coordinate_type.value_counts())\n",
    "\n",
    "\n"
   ]
  },
  {
   "cell_type": "code",
   "execution_count": 27,
   "metadata": {},
   "outputs": [
    {
     "data": {
      "image/png": "[encoded data removed]",
      "text/plain": [
       "<Figure size 1000x500 with 3 Axes>"
      ]
     },
     "metadata": {},
     "output_type": "display_data"
    }
   ],
   "source": [
    "# plot x/y/z distributions as subplots in a single figure\n",
    "fig, axs = plt.subplots(1, 3, figsize=(10, 5))\n",
    "sns.histplot(data=coords_df, x='x', ax=axs[0])\n",
    "axs[0].set_title('x')\n",
    "sns.histplot(data=coords_df, x='y', ax=axs[1])\n",
    "axs[1].set_title('y')\n",
    "sns.histplot(data=coords_df, x='z', ax=axs[2])\n",
    "axs[2].set_title('z')\n",
    "plt.show()\n",
    "\n",
    "\n"
   ]
  },
  {
   "cell_type": "code",
   "execution_count": 176,
   "metadata": {},
   "outputs": [
    {
     "data": {
      "text/plain": [
       "[[-7, 9]]"
      ]
     },
     "execution_count": 176,
     "metadata": {},
     "output_type": "execute_result"
    }
   ],
   "source": []
  },
  {
   "cell_type": "code",
   "execution_count": 164,
   "metadata": {},
   "outputs": [
    {
     "data": {
      "text/html": [
       "<div>\n",
       "<style scoped>\n",
       "    .dataframe tbody tr th:only-of-type {\n",
       "        vertical-align: middle;\n",
       "    }\n",
       "\n",
       "    .dataframe tbody tr th {\n",
       "        vertical-align: top;\n",
       "    }\n",
       "\n",
       "    .dataframe thead th {\n",
       "        text-align: right;\n",
       "    }\n",
       "</style>\n",
       "<table border=\"1\" class=\"dataframe\">\n",
       "  <thead>\n",
       "    <tr style=\"text-align: right;\">\n",
       "      <th></th>\n",
       "      <th>pmid</th>\n",
       "      <th>contrast</th>\n",
       "      <th>x</th>\n",
       "      <th>y</th>\n",
       "      <th>z</th>\n",
       "      <th>cluster_size</th>\n",
       "      <th>label</th>\n",
       "      <th>statistic</th>\n",
       "      <th>coordinate_type</th>\n",
       "    </tr>\n",
       "  </thead>\n",
       "  <tbody>\n",
       "    <tr>\n",
       "      <th>0</th>\n",
       "      <td>7563784</td>\n",
       "      <td>TEA vs. TGA</td>\n",
       "      <td>-30</td>\n",
       "      <td>-30</td>\n",
       "      <td>-25</td>\n",
       "      <td>None</td>\n",
       "      <td>Parahippocampal gyrus (l)</td>\n",
       "      <td>{'t': 2.62, 'p': 0.499}</td>\n",
       "      <td>MNI</td>\n",
       "    </tr>\n",
       "    <tr>\n",
       "      <th>1</th>\n",
       "      <td>7563784</td>\n",
       "      <td>TEA vs. TGA</td>\n",
       "      <td>-20</td>\n",
       "      <td>-20</td>\n",
       "      <td>-20</td>\n",
       "      <td>None</td>\n",
       "      <td>Parahippocampal gyrus (l)</td>\n",
       "      <td>{'t': 3.05, 'p': 0.278}</td>\n",
       "      <td>MNI</td>\n",
       "    </tr>\n",
       "    <tr>\n",
       "      <th>2</th>\n",
       "      <td>7563784</td>\n",
       "      <td>TEA vs. TGA</td>\n",
       "      <td>-30</td>\n",
       "      <td>-5</td>\n",
       "      <td>-40</td>\n",
       "      <td>None</td>\n",
       "      <td>Uncus (l)</td>\n",
       "      <td>{'t': 3.83, 'p': 0.08}</td>\n",
       "      <td>MNI</td>\n",
       "    </tr>\n",
       "    <tr>\n",
       "      <th>3</th>\n",
       "      <td>7563784</td>\n",
       "      <td>TEA vs. TGA</td>\n",
       "      <td>-25</td>\n",
       "      <td>-5</td>\n",
       "      <td>-25</td>\n",
       "      <td>None</td>\n",
       "      <td>Uncus (l)</td>\n",
       "      <td>{'t': 3.83, 'p': 0.08}</td>\n",
       "      <td>MNI</td>\n",
       "    </tr>\n",
       "    <tr>\n",
       "      <th>4</th>\n",
       "      <td>7563784</td>\n",
       "      <td>TEA vs. TGA</td>\n",
       "      <td>-25</td>\n",
       "      <td>-20</td>\n",
       "      <td>-30</td>\n",
       "      <td>None</td>\n",
       "      <td>Parahippocampal gyrus (l)</td>\n",
       "      <td>{'t': 4.2, 'p': 0.042}</td>\n",
       "      <td>MNI</td>\n",
       "    </tr>\n",
       "    <tr>\n",
       "      <th>...</th>\n",
       "      <td>...</td>\n",
       "      <td>...</td>\n",
       "      <td>...</td>\n",
       "      <td>...</td>\n",
       "      <td>...</td>\n",
       "      <td>...</td>\n",
       "      <td>...</td>\n",
       "      <td>...</td>\n",
       "      <td>...</td>\n",
       "    </tr>\n",
       "    <tr>\n",
       "      <th>226849</th>\n",
       "      <td>3400659</td>\n",
       "      <td>Regions displaying greater activation during r...</td>\n",
       "      <td>18</td>\n",
       "      <td>-82</td>\n",
       "      <td>54</td>\n",
       "      <td>1405</td>\n",
       "      <td>Lateral occipital cortex, supramarginal gyrus,...</td>\n",
       "      <td>3.63</td>\n",
       "      <td>MNI</td>\n",
       "    </tr>\n",
       "    <tr>\n",
       "      <th>226850</th>\n",
       "      <td>3400659</td>\n",
       "      <td>Regions displaying greater activation during r...</td>\n",
       "      <td>48</td>\n",
       "      <td>26</td>\n",
       "      <td>10</td>\n",
       "      <td>1112</td>\n",
       "      <td>Inferior frontal gyrus, middle frontal gyrus, ...</td>\n",
       "      <td>3.67</td>\n",
       "      <td>MNI</td>\n",
       "    </tr>\n",
       "    <tr>\n",
       "      <th>226851</th>\n",
       "      <td>3400659</td>\n",
       "      <td>Regions displaying greater activation during r...</td>\n",
       "      <td>-48</td>\n",
       "      <td>14</td>\n",
       "      <td>4</td>\n",
       "      <td>939</td>\n",
       "      <td>Inferior frontal gyrus, orbitofrontal cortex, ...</td>\n",
       "      <td>4.12</td>\n",
       "      <td>MNI</td>\n",
       "    </tr>\n",
       "    <tr>\n",
       "      <th>226852</th>\n",
       "      <td>3400659</td>\n",
       "      <td>Regions displaying greater activation during r...</td>\n",
       "      <td>6</td>\n",
       "      <td>38</td>\n",
       "      <td>42</td>\n",
       "      <td>815</td>\n",
       "      <td>Superior frontal gyrus, supplementary motor co...</td>\n",
       "      <td>3.44</td>\n",
       "      <td>MNI</td>\n",
       "    </tr>\n",
       "    <tr>\n",
       "      <th>226853</th>\n",
       "      <td>3400659</td>\n",
       "      <td>Regions displaying greater activation during r...</td>\n",
       "      <td>34</td>\n",
       "      <td>56</td>\n",
       "      <td>18</td>\n",
       "      <td>797</td>\n",
       "      <td>Frontal pole</td>\n",
       "      <td>3.6</td>\n",
       "      <td>MNI</td>\n",
       "    </tr>\n",
       "  </tbody>\n",
       "</table>\n",
       "<p>225485 rows × 9 columns</p>\n",
       "</div>"
      ],
      "text/plain": [
       "           pmid                                           contrast    x    y  \\\n",
       "0       7563784                                        TEA vs. TGA  -30  -30   \n",
       "1       7563784                                        TEA vs. TGA  -20  -20   \n",
       "2       7563784                                        TEA vs. TGA  -30   -5   \n",
       "3       7563784                                        TEA vs. TGA  -25   -5   \n",
       "4       7563784                                        TEA vs. TGA  -25  -20   \n",
       "...         ...                                                ...  ...  ...   \n",
       "226849  3400659  Regions displaying greater activation during r...   18  -82   \n",
       "226850  3400659  Regions displaying greater activation during r...   48   26   \n",
       "226851  3400659  Regions displaying greater activation during r...  -48   14   \n",
       "226852  3400659  Regions displaying greater activation during r...    6   38   \n",
       "226853  3400659  Regions displaying greater activation during r...   34   56   \n",
       "\n",
       "          z cluster_size                                              label  \\\n",
       "0       -25         None                          Parahippocampal gyrus (l)   \n",
       "1       -20         None                          Parahippocampal gyrus (l)   \n",
       "2       -40         None                                          Uncus (l)   \n",
       "3       -25         None                                          Uncus (l)   \n",
       "4       -30         None                          Parahippocampal gyrus (l)   \n",
       "...     ...          ...                                                ...   \n",
       "226849   54         1405  Lateral occipital cortex, supramarginal gyrus,...   \n",
       "226850   10         1112  Inferior frontal gyrus, middle frontal gyrus, ...   \n",
       "226851    4          939  Inferior frontal gyrus, orbitofrontal cortex, ...   \n",
       "226852   42          815  Superior frontal gyrus, supplementary motor co...   \n",
       "226853   18          797                                       Frontal pole   \n",
       "\n",
       "                      statistic coordinate_type  \n",
       "0       {'t': 2.62, 'p': 0.499}             MNI  \n",
       "1       {'t': 3.05, 'p': 0.278}             MNI  \n",
       "2        {'t': 3.83, 'p': 0.08}             MNI  \n",
       "3        {'t': 3.83, 'p': 0.08}             MNI  \n",
       "4        {'t': 4.2, 'p': 0.042}             MNI  \n",
       "...                         ...             ...  \n",
       "226849                     3.63             MNI  \n",
       "226850                     3.67             MNI  \n",
       "226851                     4.12             MNI  \n",
       "226852                     3.44             MNI  \n",
       "226853                      3.6             MNI  \n",
       "\n",
       "[225485 rows x 9 columns]"
      ]
     },
     "execution_count": 164,
     "metadata": {},
     "output_type": "execute_result"
    }
   ],
   "source": [
    "coords_df"
   ]
  }
 ],
 "metadata": {
  "kernelspec": {
   "display_name": ".venv",
   "language": "python",
   "name": "python3"
  },
  "language_info": {
   "codemirror_mode": {
    "name": "ipython",
    "version": 3
   },
   "file_extension": ".py",
   "mimetype": "text/x-python",
   "name": "python",
   "nbconvert_exporter": "python",
   "pygments_lexer": "ipython3",
   "version": "3.12.0"
  }
 },
 "nbformat": 4,
 "nbformat_minor": 2
}
