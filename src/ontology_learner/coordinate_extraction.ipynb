{
 "cells": [
  {
   "cell_type": "markdown",
   "metadata": {},
   "source": [
    "Try to extract coordinates from tables"
   ]
  },
  {
   "cell_type": "code",
   "execution_count": 167,
   "metadata": {},
   "outputs": [
    {
     "name": "stdout",
     "output_type": "stream",
     "text": [
      "/Users/poldrack/Dropbox/data/ontology-learner/data\n"
     ]
    }
   ],
   "source": [
    "import json\n",
    "from pathlib import Path\n",
    "from ontology_learner.publication import Publication\n",
    "from tqdm import tqdm\n",
    "from llm_query.chat_client import ChatClientFactory\n",
    "from dotenv import load_dotenv\n",
    "import os\n",
    "from ontology_learner.gpt4_direct.gpt_term_mining import (\n",
    "    mk_batch_script,\n",
    "    run_batch_request,\n",
    "    wait_for_batch_completion,\n",
    "    get_batch_results,\n",
    "    save_batch_results,\n",
    "    )\n",
    "from ontology_learner.json_utils import get_jsonl_file, parse_jsonl_results, load_jsonl\n",
    "import numpy as np\n",
    "import pandas as pd\n",
    "from icecream import ic\n",
    "import seaborn as sns\n",
    "import matplotlib.pyplot as plt\n",
    "\n",
    "load_dotenv()\n",
    "api_key = os.getenv(\"OPENAI\")\n",
    "\n",
    "datadir = Path(os.getenv('DATADIR'))\n",
    "print(datadir)\n",
    "\n",
    "client = ChatClientFactory.create_client(\"openai\", model=\"gpt-4o\", \n",
    "                                         api_key=api_key,\n",
    "                                         temperature=1.0)\n",
    "\n",
    "jsondir = datadir / 'json'\n",
    "\n",
    "\n",
    "\n"
   ]
  },
  {
   "cell_type": "code",
   "execution_count": 2,
   "metadata": {},
   "outputs": [
    {
     "data": {
      "text/plain": [
       "132257"
      ]
     },
     "execution_count": 2,
     "metadata": {},
     "output_type": "execute_result"
    }
   ],
   "source": [
    "jsonfiles = list(jsondir.glob('*.json'))\n",
    "pmids = [f.stem for f in jsonfiles]\n",
    "len(pmids)\n"
   ]
  },
  {
   "cell_type": "code",
   "execution_count": 11,
   "metadata": {},
   "outputs": [
    {
     "name": "stderr",
     "output_type": "stream",
     "text": [
      "100%|██████████| 132257/132257 [00:49<00:00, 2667.42it/s]\n"
     ]
    }
   ],
   "source": [
    "tabledata = {}\n",
    "\n",
    "for pmid in tqdm(pmids):\n",
    "    p = Publication(pmid, datadir=jsondir)\n",
    "    p.parse_sections()\n",
    "    if 'TABLE' in p.sections and 'coordinate' in p.sections['TABLE'].lower():\n",
    "        tabledata[pmid] = p.sections['TABLE']\n",
    "\n"
   ]
  },
  {
   "cell_type": "code",
   "execution_count": 12,
   "metadata": {},
   "outputs": [
    {
     "name": "stdout",
     "output_type": "stream",
     "text": [
      "14635\n"
     ]
    }
   ],
   "source": [
    "print(len(tabledata))"
   ]
  },
  {
   "cell_type": "code",
   "execution_count": 13,
   "metadata": {},
   "outputs": [
    {
     "data": {
      "text/plain": [
       "'MNI coordinates and response intensity of brain regions displaying a significant response to Animate > Random stimuli p < 0.05 (corrected). Anatomical region\\tHem\\tx\\ty\\tz\\tZ\\tk\\t \\tPosterior superior temporal sulcus\\tR\\t50\\t-66\\t-8\\t8.65\\t13,033\\t \\t\\tL\\t-48\\t-74\\t-8\\t8.82\\t5671\\t \\tPrecentral gyrus\\tR\\t48\\t8\\t34\\t6.21\\t4976\\t \\tInferior frontal gyrus (BA 45)\\tL\\t-50\\t26\\t14\\t5.57\\t2610\\t \\tDorsomedial prefrontal cortex\\t-\\t2\\t62\\t22\\t4.52\\t1365\\t \\tAnterior intraparietal sulcus\\tL\\t-38\\t-38\\t44\\t4.74\\t1307\\t \\t Note: MNI coordinates are reported. Hem, hemisphere; L, left; R, right; Z, z-statistic; k, cluster size (in voxels). MNI coordinates and response intensity of cluster peaks identified in which brain response for the Animate > Random contrast varied significantly as a function of OXTR methylation p < 0.05 (corrected). Anatomical region\\tHem\\tx\\ty\\tz\\tZ\\tk\\t \\tSuperior temporal gyrus/supramarginal gyrus\\tL\\t-64\\t-24\\t12\\t4.20\\t713\\t \\tDorsal anterior cingulate cortex\\tR\\t12\\t6\\t40\\t3.65\\t429\\t \\t Note: Hem, hemisphere; L, left; R, right; Z, z-statistic; k, cluster size (in voxels).'"
      ]
     },
     "execution_count": 13,
     "metadata": {},
     "output_type": "execute_result"
    }
   ],
   "source": [
    "tabledata['3467966']"
   ]
  },
  {
   "cell_type": "code",
   "execution_count": 14,
   "metadata": {},
   "outputs": [],
   "source": [
    "def get_coord_prompt(table_data):\n",
    "    return f\"\"\"\n",
    "The following text contains the data from a table in a published research paper that uses \n",
    "functional MRI brain imaging.  The table contains coordinates of brain activation, \n",
    "listed as X/Y/Z locations, as well as labels for the anatomical location of those regions.  \n",
    "Please extract the locations (which should be numbers in the range of -150 to 150) and labels.  If possible, \n",
    "please also extract the type of statistic being reported (e.g. t, z), the value of the statistic \n",
    "(which should be a number), the cluster size, and the type of coordinate (e.g., MNI, Talairach).  \n",
    "\n",
    "There may be multiple tables that contain information about different comparisons between\n",
    "conditions, known as contrasts (e.g. \"Incongruent > Congruent\"). \n",
    "If there are multiple tables for different contrasts, please return a list of dictionaries, \n",
    "one for each table.\n",
    "\n",
    "\n",
    "## TABLE DATA ##\n",
    "{table_data}\n",
    "\n",
    "## RESPONSE ##\n",
    "\n",
    "You should return the new list as a JSON dictionary, with no additional text. If there are\n",
    "no coordinates present in the table, return an empty list.\n",
    "\n",
    "Each table should include a list of dictionaries with the following contents, using the name of the \n",
    "contrast (e.g. \"Incongruent > Congruent\") as the key for each table dictionary:\n",
    "\n",
    "The output should include list of dictionaries for each coordinate in the table, each containing the following keys:\n",
    "    - contrast: the name of the contrast (e.g. \"Incongruent > Congruent\")\n",
    "    - x: the x coordinate\n",
    "    - y: the y coordinate\n",
    "    - z: the z coordinate\n",
    "    - cluster_size: the size of the cluster\n",
    "    - label: the label for the anatomical location\n",
    "    - statistic: the statistic being reported (e.g. t, z)\n",
    "    - coordinate_type: the type of coordinate (e.g. MNI, Talairach)\n",
    "    \n",
    "\"\"\"\n",
    "\n",
    "# resp = client.chat(get_coord_prompt(tabledata['3467966']))"
   ]
  },
  {
   "cell_type": "code",
   "execution_count": 19,
   "metadata": {},
   "outputs": [],
   "source": [
    "\n",
    "coordinate_mining_dir = datadir / 'coordinate_extraction/gpt4_results'\n",
    "coordinate_mining_dir.mkdir(exist_ok=True, parents=True)\n",
    "\n",
    "batchfile = datadir / 'coordinate_extraction/gpt4_coordinate_extraction_batch.jsonl'\n",
    "custom_ids = list(tabledata.keys())\n",
    "tabledata_list = [tabledata[pmid] for pmid in custom_ids]\n",
    "\n",
    "if len(list(coordinate_mining_dir.glob('*.jsonl'))) == 0:\n",
    "    #mk_batch_script(batchfile, tabledata_list, get_coord_prompt, custom_ids=custom_ids)\n",
    "    #batch_metadata, batch_client = run_batch_request(batchfile, 'coordinate_extraction')\n",
    "\n",
    "    #wait_for_batch_completion(batch_metadata, batch_client)\n",
    "    batch_results = get_batch_results(batch_client, batch_metadata.id)\n",
    "    outfile = save_batch_results(batch_results, batch_metadata.id, coordinate_mining_dir)"
   ]
  },
  {
   "cell_type": "code",
   "execution_count": 28,
   "metadata": {},
   "outputs": [
    {
     "name": "stdout",
     "output_type": "stream",
     "text": [
      "error decoding 6417219\n",
      "error decoding 3632522\n",
      "error decoding 3897558\n",
      "error decoding 7274441\n",
      "error decoding 9421497\n",
      "error decoding 9441296\n",
      "error decoding 5390729\n",
      "error decoding 8318202\n",
      "error decoding 2769569\n",
      "error decoding 8113515\n",
      "error decoding 4477185\n",
      "error decoding 7462432\n",
      "error decoding 5079119\n",
      "error decoding 10262285\n",
      "error decoding 6392062\n",
      "error decoding 5529460\n",
      "error decoding 2784027\n",
      "error decoding 3500241\n",
      "error decoding 3715724\n",
      "error decoding 5385589\n",
      "error decoding 7455219\n",
      "error decoding 6214971\n",
      "error decoding 8566670\n",
      "error decoding 3385211\n",
      "error decoding 2742320\n",
      "error decoding 5963950\n",
      "error decoding 5002375\n",
      "error decoding 9799965\n",
      "error decoding 4429863\n",
      "error decoding 4055615\n",
      "error decoding 3909704\n",
      "error decoding 3853419\n",
      "error decoding 3592389\n",
      "error decoding 3543395\n",
      "error decoding 7998905\n",
      "error decoding 6777552\n",
      "error decoding 9059616\n",
      "error decoding 3439853\n",
      "error decoding 6033386\n",
      "error decoding 5724021\n",
      "error decoding 8561439\n",
      "error decoding 7670650\n",
      "error decoding 4182671\n",
      "error decoding 6458376\n",
      "error decoding 8886665\n",
      "error decoding 10785560\n",
      "error decoding 10543376\n",
      "error decoding 3505756\n",
      "error decoding 6258253\n",
      "error decoding 7599963\n",
      "error decoding 5214699\n",
      "error decoding 8079712\n",
      "error decoding 3815977\n",
      "error decoding 3143719\n",
      "error decoding 3764021\n",
      "error decoding 8671790\n",
      "error decoding 9188742\n",
      "error decoding 3786886\n",
      "error decoding 10338813\n",
      "error decoding 3065329\n",
      "error decoding 5722310\n",
      "error decoding 3427333\n",
      "error decoding 3717457\n",
      "error decoding 3673458\n",
      "error decoding 4967793\n",
      "error decoding 6083552\n",
      "error decoding 6795028\n",
      "error decoding 4430652\n",
      "error decoding 3250075\n",
      "error decoding 6971211\n",
      "error decoding 5205575\n",
      "error decoding 10485267\n",
      "error decoding 3540048\n",
      "error decoding 3278319\n",
      "error decoding 2080822\n",
      "error decoding 5461356\n",
      "error decoding 3516392\n",
      "error decoding 5828450\n",
      "error decoding 7283505\n",
      "error decoding 4327308\n",
      "error decoding 4041563\n",
      "error decoding 2879340\n",
      "error decoding 2888482\n",
      "error decoding 4531212\n",
      "error decoding 5003172\n",
      "error decoding 7801701\n",
      "error decoding 10141112\n",
      "error decoding 7871792\n",
      "error decoding 3311856\n",
      "error decoding 7749585\n",
      "error decoding 4854410\n",
      "error decoding 5581738\n",
      "error decoding 4580478\n",
      "error decoding 2889163\n",
      "error decoding 6545600\n",
      "error decoding 10049953\n",
      "error decoding 10715797\n",
      "error decoding 8456749\n",
      "error decoding 4999060\n",
      "error decoding 3647144\n",
      "error decoding 2669793\n",
      "error decoding 8214872\n",
      "error decoding 8578406\n",
      "error decoding 2735022\n",
      "error decoding 6790316\n",
      "error decoding 6015823\n",
      "error decoding 5256178\n",
      "error decoding 2935299\n",
      "error decoding 9578989\n",
      "error decoding 5339306\n",
      "error decoding 5861187\n",
      "error decoding 5518417\n",
      "error decoding 6759632\n",
      "error decoding 9302198\n",
      "error decoding 8596969\n",
      "error decoding 3717766\n",
      "error decoding 5509143\n",
      "error decoding 3657763\n",
      "error decoding 4647695\n",
      "error decoding 3288226\n",
      "error decoding 4351830\n",
      "error decoding 3436669\n",
      "error decoding 8865167\n",
      "error decoding 3932519\n",
      "error decoding 2570440\n",
      "error decoding 4275574\n",
      "error decoding 4033845\n",
      "error decoding 4564342\n",
      "error decoding 3107009\n",
      "error decoding 3130679\n",
      "error decoding 3387157\n",
      "error decoding 9976764\n",
      "error decoding 5403860\n",
      "error decoding 4213254\n",
      "error decoding 3288667\n",
      "error decoding 8412372\n",
      "error decoding 3412736\n",
      "error decoding 4104234\n",
      "error decoding 3523276\n",
      "error decoding 9205885\n",
      "error decoding 4846799\n",
      "error decoding 6463204\n",
      "error decoding 3724923\n",
      "error decoding 3002396\n",
      "error decoding 8410528\n",
      "error decoding 7367880\n",
      "error decoding 3137744\n",
      "error decoding 3557551\n",
      "error decoding 9522250\n",
      "error decoding 4050300\n",
      "error decoding 10394087\n",
      "error decoding 8824509\n",
      "error decoding 3110636\n",
      "error decoding 7755074\n",
      "error decoding 3403813\n",
      "error decoding 2746321\n",
      "error decoding 10752465\n",
      "error decoding 6072647\n",
      "error decoding 4157948\n",
      "error decoding 4431729\n",
      "error decoding 3871985\n",
      "error decoding 7805087\n",
      "error decoding 10360086\n",
      "error decoding 5529377\n",
      "error decoding 3244208\n",
      "error decoding 3832610\n",
      "error decoding 4252729\n",
      "error decoding 3820504\n",
      "error decoding 5574875\n",
      "error decoding 8864727\n",
      "error decoding 9303560\n",
      "error decoding 9351617\n"
     ]
    }
   ],
   "source": [
    "\n",
    "coordinate_mining_file = get_jsonl_file(coordinate_mining_dir)\n",
    "coord_results = parse_jsonl_results(load_jsonl(coordinate_mining_file))\n",
    "\n",
    "with open(datadir / 'coordinate_extraction/coord_results_gpt4.json', 'w') as f:\n",
    "    json.dump(coord_results, f, indent=4)\n"
   ]
  },
  {
   "cell_type": "markdown",
   "metadata": {},
   "source": [
    "### Process extracted coordinates"
   ]
  },
  {
   "cell_type": "code",
   "execution_count": 35,
   "metadata": {},
   "outputs": [
    {
     "name": "stdout",
     "output_type": "stream",
     "text": [
      "found 10460 tables with coordinates in 11034 tables\n"
     ]
    }
   ],
   "source": [
    "coord_results_clean = {k: v for k, v in coord_results.items() if len(v) > 0}\n",
    "print(f'found {len(coord_results_clean)} tables with coordinates in {len(coord_results)} tables')\n",
    "\n"
   ]
  },
  {
   "cell_type": "code",
   "execution_count": 135,
   "metadata": {},
   "outputs": [
    {
     "data": {
      "text/plain": [
       "{'Paralimbic cytology compared to BNC': {'coordinates': [{'x': -6,\n",
       "    'y': -34,\n",
       "    'z': 40,\n",
       "    'cluster_size': None,\n",
       "    'label': 'L. PCC dysgranular',\n",
       "    'statistic': None,\n",
       "    'coordinate_type': 'MNI'},\n",
       "   {'x': -6,\n",
       "    'y': -52,\n",
       "    'z': 25,\n",
       "    'cluster_size': None,\n",
       "    'label': 'L. PCC granular',\n",
       "    'statistic': 'Z = -2.62 (+-0.2)',\n",
       "    'coordinate_type': 'MNI'},\n",
       "   {'x': 6,\n",
       "    'y': -34,\n",
       "    'z': 40,\n",
       "    'cluster_size': None,\n",
       "    'label': 'R. PCC dysgranular',\n",
       "    'statistic': None,\n",
       "    'coordinate_type': 'MNI'},\n",
       "   {'x': 6,\n",
       "    'y': -52,\n",
       "    'z': 25,\n",
       "    'cluster_size': None,\n",
       "    'label': 'R. PCC granular',\n",
       "    'statistic': 'Z = -2.48 (+-0.2)',\n",
       "    'coordinate_type': 'MNI'},\n",
       "   {'x': -6,\n",
       "    'y': 38,\n",
       "    'z': 10,\n",
       "    'cluster_size': None,\n",
       "    'label': 'L. pACC agranular',\n",
       "    'statistic': None,\n",
       "    'coordinate_type': 'MNI'},\n",
       "   {'x': -6,\n",
       "    'y': 56,\n",
       "    'z': 10,\n",
       "    'cluster_size': None,\n",
       "    'label': 'L. pACC granular',\n",
       "    'statistic': 'Z = 0.03 (+-0.2)',\n",
       "    'coordinate_type': 'MNI'},\n",
       "   {'x': 6,\n",
       "    'y': 38,\n",
       "    'z': 10,\n",
       "    'cluster_size': None,\n",
       "    'label': 'R. pACC agranular',\n",
       "    'statistic': None,\n",
       "    'coordinate_type': 'MNI'},\n",
       "   {'x': 6,\n",
       "    'y': 56,\n",
       "    'z': 20,\n",
       "    'cluster_size': None,\n",
       "    'label': 'R. pACC granular',\n",
       "    'statistic': 'Z = 0.82 (+-0.2)',\n",
       "    'coordinate_type': 'MNI'},\n",
       "   {'x': -39,\n",
       "    'y': 11,\n",
       "    'z': -2,\n",
       "    'cluster_size': None,\n",
       "    'label': 'L. Insula agranular',\n",
       "    'statistic': None,\n",
       "    'coordinate_type': 'MNI'},\n",
       "   {'x': -39,\n",
       "    'y': -16,\n",
       "    'z': 10,\n",
       "    'cluster_size': None,\n",
       "    'label': 'L. Insula granular',\n",
       "    'statistic': 'Z = -2.17 (+-0.2)',\n",
       "    'coordinate_type': 'MNI'},\n",
       "   {'x': 39,\n",
       "    'y': 11,\n",
       "    'z': -2,\n",
       "    'cluster_size': None,\n",
       "    'label': 'R. Insula agranular',\n",
       "    'statistic': None,\n",
       "    'coordinate_type': 'MNI'},\n",
       "   {'x': 39,\n",
       "    'y': -16,\n",
       "    'z': 10,\n",
       "    'cluster_size': None,\n",
       "    'label': 'R. Insula granular',\n",
       "    'statistic': 'Z = -2.92 (+-0.2)',\n",
       "    'coordinate_type': 'MNI'}]}}"
      ]
     },
     "execution_count": 135,
     "metadata": {},
     "output_type": "execute_result"
    }
   ],
   "source": [
    "def is_good_coord(coord):\n",
    "    return 'x' in coord and 'y' in coord and 'z' in coord\n",
    "\n",
    "def parse_coord_dict(coord_result, verbose=True):\n",
    "    if 'contrast' in coord_result:\n",
    "        coord_result = {coord_result['contrast']: coord_result}\n",
    "\n",
    "    if verbose:\n",
    "        print(f'found {len(coord_result)} contrasts')\n",
    "    for contrast, tab in coord_result.items():\n",
    "        if verbose:\n",
    "            ic(tab)\n",
    "            ic(f'found {len(tab[\"coordinates\"])} coordinates in {contrast}')\n",
    "        for coord in tab['coordinates']:\n",
    "            good_coord = 'good coord' if is_good_coord(coord) else 'bad coord'\n",
    "            if verbose:\n",
    "                ic(f'{good_coord}: {coord}')\n",
    "    return coord_result\n",
    "\n",
    "\n",
    "def parse_coord_result(coord_result, verbose=True):\n",
    "    if isinstance(coord_result, dict):\n",
    "        clean_coord_result = parse_coord_dict(coord_result, verbose)\n",
    "    elif isinstance(coord_result, list):\n",
    "        clean_coord_result = {}\n",
    "        for item in coord_result:\n",
    "            clean_coord_result.update(parse_coord_dict(item, verbose))\n",
    "    else:\n",
    "        print(f'skipping {coord_result} because it is a {type(coord_result)}')\n",
    "\n",
    "    return clean_coord_result\n",
    "\n",
    "k = '4468026' #list(coord_results_clean.keys())[0]\n",
    "parse_coord_result(coord_results_clean[k], verbose=False)"
   ]
  },
  {
   "cell_type": "code",
   "execution_count": 136,
   "metadata": {},
   "outputs": [
    {
     "name": "stdout",
     "output_type": "stream",
     "text": [
      "found 508 bad results in 10460 tables\n"
     ]
    }
   ],
   "source": [
    "bad_results = []\n",
    "good_coord_results = {}\n",
    "for k in list(coord_results_clean.keys()):\n",
    "    try:\n",
    "        good_coord_results[k] = parse_coord_result(coord_results_clean[k], verbose=False)\n",
    "    except Exception as e:\n",
    "        bad_results.append(k)\n",
    "\n",
    "print(f'found {len(bad_results)} bad results in {len(coord_results_clean)} tables')\n",
    "\n",
    "\n"
   ]
  },
  {
   "cell_type": "markdown",
   "metadata": {},
   "source": [
    "### convert to a single coordinate list"
   ]
  },
  {
   "cell_type": "code",
   "execution_count": 151,
   "metadata": {},
   "outputs": [],
   "source": [
    "coords_list = []\n",
    "\n",
    "for k, v in good_coord_results.items():\n",
    "    for contrast, contrast_dict in v.items():\n",
    "        for coord in contrast_dict['coordinates']:\n",
    "            x = coord['x'] if 'x' in coord else None\n",
    "            y = coord['y'] if 'y' in coord else None\n",
    "            z = coord['z'] if 'z' in coord else None\n",
    "            cluster_size = coord['cluster_size'] if 'cluster_size' in coord else None\n",
    "            label = coord['label'] if 'label' in coord else None\n",
    "            statistic = coord['statistic'] if 'statistic' in coord else None\n",
    "            coordinate_type = coord['coordinate_type'] if 'coordinate_type' in coord else None\n",
    "            coords_list.append({\n",
    "                'pmid': k,\n",
    "                'contrast': contrast,\n",
    "                'x': x,\n",
    "                'y': y,\n",
    "                'z': z,\n",
    "                'cluster_size': cluster_size,\n",
    "                'label': label,\n",
    "                'statistic': statistic,\n",
    "                'coordinate_type': coordinate_type\n",
    "            })\n",
    "\n"
   ]
  },
  {
   "cell_type": "code",
   "execution_count": 150,
   "metadata": {},
   "outputs": [
    {
     "data": {
      "text/plain": [
       "{'cluster_size': 1338,\n",
       " 'label': 'Superior and inferior parietal gyrus, middle occipital gyrus, angular gyrus',\n",
       " 'statistic': 't = 5.74',\n",
       " 'coordinate_type': 'MNI'}"
      ]
     },
     "execution_count": 150,
     "metadata": {},
     "output_type": "execute_result"
    }
   ],
   "source": [
    "coord"
   ]
  },
  {
   "cell_type": "code",
   "execution_count": 195,
   "metadata": {},
   "outputs": [
    {
     "name": "stdout",
     "output_type": "stream",
     "text": [
      "cleaup removed 1792 rows out of 226854 (225062 rows remaining)\n"
     ]
    }
   ],
   "source": [
    "coords_df = pd.DataFrame(coords_list)\n",
    "full_length = len(coords_df)\n",
    "# remove rows with missing x/y/z coords\n",
    "coords_df = coords_df[coords_df['x'].notna() & coords_df['y'].notna() & coords_df['z'].notna()]\n",
    "\n",
    "# remove rows with x/y/z as lists\n",
    "coords_df = coords_df[~coords_df['x'].apply(lambda x: isinstance(x, list))]\n",
    "\n",
    "# remove rows with x/y/z values that are not numbers\n",
    "coords_df = coords_df[coords_df['x'].apply(lambda x: isinstance(x, (int, float)))]\n",
    "coords_df = coords_df[coords_df['y'].apply(lambda x: isinstance(x, (int, float)))]\n",
    "coords_df = coords_df[coords_df['z'].apply(lambda x: isinstance(x, (int, float)))]\n",
    "\n",
    "# remove rows with x/y/z values that are outside of the range of -200 to 200\n",
    "coords_df = coords_df[coords_df['x'].apply(lambda x: x >= -200 and x <= 200)]\n",
    "coords_df = coords_df[coords_df['y'].apply(lambda x: x >= -200 and x <= 200)]\n",
    "coords_df = coords_df[coords_df['z'].apply(lambda x: x >= -200 and x <= 200)]\n",
    "\n",
    "\n",
    "print(f'cleaup removed {full_length - len(coords_df)} rows out of {full_length} ({len(coords_df)} rows remaining)')\n",
    "\n"
   ]
  },
  {
   "cell_type": "code",
   "execution_count": 186,
   "metadata": {},
   "outputs": [
    {
     "name": "stdout",
     "output_type": "stream",
     "text": [
      "157480 rows with cluster size\n",
      "214560 rows with coordinate type\n",
      "196062 rows with statistic\n",
      "223351 rows with label\n"
     ]
    }
   ],
   "source": [
    "# how many have cluster size\n",
    "print(f'{len(coords_df[coords_df[\"cluster_size\"].notna()])} rows with cluster size')\n",
    "\n",
    "# how many have coordinate type\n",
    "print(f'{len(coords_df[coords_df[\"coordinate_type\"].notna()])} rows with coordinate type')\n",
    "\n",
    "# how many have statistic\n",
    "print(f'{len(coords_df[coords_df[\"statistic\"].notna()])} rows with statistic')\n",
    "\n",
    "# how many have label\n",
    "print(f'{len(coords_df[coords_df[\"label\"].notna()])} rows with label')\n"
   ]
  },
  {
   "cell_type": "code",
   "execution_count": 196,
   "metadata": {},
   "outputs": [
    {
     "data": {
      "text/plain": [
       "statistic\n",
       "z             3550\n",
       "Z             2846\n",
       "t             2377\n",
       "T             1368\n",
       "F              834\n",
       "              ... \n",
       "T-val 3.94       1\n",
       "T-val 3.47       1\n",
       "T-val 4.56       1\n",
       "T-val 3.39       1\n",
       "BSR -5.08        1\n",
       "Name: count, Length: 72957, dtype: int64"
      ]
     },
     "execution_count": 196,
     "metadata": {},
     "output_type": "execute_result"
    }
   ],
   "source": [
    "coords_df.statistic.value_counts()"
   ]
  },
  {
   "cell_type": "code",
   "execution_count": 187,
   "metadata": {},
   "outputs": [
    {
     "name": "stdout",
     "output_type": "stream",
     "text": [
      "coordinate_type\n",
      "MNI              167075\n",
      "Talairach         35224\n",
      "Unknown            2422\n",
      "unknown            1722\n",
      "Not specified      1152\n",
      "                  ...  \n",
      "BA44/45               1\n",
      "BA 8                  1\n",
      "BA 11                 1\n",
      "BA 40                 1\n",
      "BA 37                 1\n",
      "Name: count, Length: 209, dtype: int64\n"
     ]
    }
   ],
   "source": [
    "print(coords_df.coordinate_type.value_counts())\n",
    "\n",
    "\n"
   ]
  },
  {
   "cell_type": "code",
   "execution_count": 194,
   "metadata": {},
   "outputs": [
    {
     "data": {
      "image/png": "[encoded data removed]",
      "text/plain": [
       "<Figure size 1000x500 with 3 Axes>"
      ]
     },
     "metadata": {},
     "output_type": "display_data"
    }
   ],
   "source": [
    "# plot x/y/z distributions as subplots in a single figure\n",
    "fig, axs = plt.subplots(1, 3, figsize=(10, 5))\n",
    "sns.histplot(data=coords_df, x='x', ax=axs[0])\n",
    "axs[0].set_title('x')\n",
    "sns.histplot(data=coords_df, x='y', ax=axs[1])\n",
    "axs[1].set_title('y')\n",
    "sns.histplot(data=coords_df, x='z', ax=axs[2])\n",
    "axs[2].set_title('z')\n",
    "plt.show()\n",
    "\n",
    "\n"
   ]
  },
  {
   "cell_type": "code",
   "execution_count": 176,
   "metadata": {},
   "outputs": [
    {
     "data": {
      "text/plain": [
       "[[-7, 9]]"
      ]
     },
     "execution_count": 176,
     "metadata": {},
     "output_type": "execute_result"
    }
   ],
   "source": []
  },
  {
   "cell_type": "code",
   "execution_count": 164,
   "metadata": {},
   "outputs": [
    {
     "data": {
      "text/html": [
       "<div>\n",
       "<style scoped>\n",
       "    .dataframe tbody tr th:only-of-type {\n",
       "        vertical-align: middle;\n",
       "    }\n",
       "\n",
       "    .dataframe tbody tr th {\n",
       "        vertical-align: top;\n",
       "    }\n",
       "\n",
       "    .dataframe thead th {\n",
       "        text-align: right;\n",
       "    }\n",
       "</style>\n",
       "<table border=\"1\" class=\"dataframe\">\n",
       "  <thead>\n",
       "    <tr style=\"text-align: right;\">\n",
       "      <th></th>\n",
       "      <th>pmid</th>\n",
       "      <th>contrast</th>\n",
       "      <th>x</th>\n",
       "      <th>y</th>\n",
       "      <th>z</th>\n",
       "      <th>cluster_size</th>\n",
       "      <th>label</th>\n",
       "      <th>statistic</th>\n",
       "      <th>coordinate_type</th>\n",
       "    </tr>\n",
       "  </thead>\n",
       "  <tbody>\n",
       "    <tr>\n",
       "      <th>0</th>\n",
       "      <td>7563784</td>\n",
       "      <td>TEA vs. TGA</td>\n",
       "      <td>-30</td>\n",
       "      <td>-30</td>\n",
       "      <td>-25</td>\n",
       "      <td>None</td>\n",
       "      <td>Parahippocampal gyrus (l)</td>\n",
       "      <td>{'t': 2.62, 'p': 0.499}</td>\n",
       "      <td>MNI</td>\n",
       "    </tr>\n",
       "    <tr>\n",
       "      <th>1</th>\n",
       "      <td>7563784</td>\n",
       "      <td>TEA vs. TGA</td>\n",
       "      <td>-20</td>\n",
       "      <td>-20</td>\n",
       "      <td>-20</td>\n",
       "      <td>None</td>\n",
       "      <td>Parahippocampal gyrus (l)</td>\n",
       "      <td>{'t': 3.05, 'p': 0.278}</td>\n",
       "      <td>MNI</td>\n",
       "    </tr>\n",
       "    <tr>\n",
       "      <th>2</th>\n",
       "      <td>7563784</td>\n",
       "      <td>TEA vs. TGA</td>\n",
       "      <td>-30</td>\n",
       "      <td>-5</td>\n",
       "      <td>-40</td>\n",
       "      <td>None</td>\n",
       "      <td>Uncus (l)</td>\n",
       "      <td>{'t': 3.83, 'p': 0.08}</td>\n",
       "      <td>MNI</td>\n",
       "    </tr>\n",
       "    <tr>\n",
       "      <th>3</th>\n",
       "      <td>7563784</td>\n",
       "      <td>TEA vs. TGA</td>\n",
       "      <td>-25</td>\n",
       "      <td>-5</td>\n",
       "      <td>-25</td>\n",
       "      <td>None</td>\n",
       "      <td>Uncus (l)</td>\n",
       "      <td>{'t': 3.83, 'p': 0.08}</td>\n",
       "      <td>MNI</td>\n",
       "    </tr>\n",
       "    <tr>\n",
       "      <th>4</th>\n",
       "      <td>7563784</td>\n",
       "      <td>TEA vs. TGA</td>\n",
       "      <td>-25</td>\n",
       "      <td>-20</td>\n",
       "      <td>-30</td>\n",
       "      <td>None</td>\n",
       "      <td>Parahippocampal gyrus (l)</td>\n",
       "      <td>{'t': 4.2, 'p': 0.042}</td>\n",
       "      <td>MNI</td>\n",
       "    </tr>\n",
       "    <tr>\n",
       "      <th>...</th>\n",
       "      <td>...</td>\n",
       "      <td>...</td>\n",
       "      <td>...</td>\n",
       "      <td>...</td>\n",
       "      <td>...</td>\n",
       "      <td>...</td>\n",
       "      <td>...</td>\n",
       "      <td>...</td>\n",
       "      <td>...</td>\n",
       "    </tr>\n",
       "    <tr>\n",
       "      <th>226849</th>\n",
       "      <td>3400659</td>\n",
       "      <td>Regions displaying greater activation during r...</td>\n",
       "      <td>18</td>\n",
       "      <td>-82</td>\n",
       "      <td>54</td>\n",
       "      <td>1405</td>\n",
       "      <td>Lateral occipital cortex, supramarginal gyrus,...</td>\n",
       "      <td>3.63</td>\n",
       "      <td>MNI</td>\n",
       "    </tr>\n",
       "    <tr>\n",
       "      <th>226850</th>\n",
       "      <td>3400659</td>\n",
       "      <td>Regions displaying greater activation during r...</td>\n",
       "      <td>48</td>\n",
       "      <td>26</td>\n",
       "      <td>10</td>\n",
       "      <td>1112</td>\n",
       "      <td>Inferior frontal gyrus, middle frontal gyrus, ...</td>\n",
       "      <td>3.67</td>\n",
       "      <td>MNI</td>\n",
       "    </tr>\n",
       "    <tr>\n",
       "      <th>226851</th>\n",
       "      <td>3400659</td>\n",
       "      <td>Regions displaying greater activation during r...</td>\n",
       "      <td>-48</td>\n",
       "      <td>14</td>\n",
       "      <td>4</td>\n",
       "      <td>939</td>\n",
       "      <td>Inferior frontal gyrus, orbitofrontal cortex, ...</td>\n",
       "      <td>4.12</td>\n",
       "      <td>MNI</td>\n",
       "    </tr>\n",
       "    <tr>\n",
       "      <th>226852</th>\n",
       "      <td>3400659</td>\n",
       "      <td>Regions displaying greater activation during r...</td>\n",
       "      <td>6</td>\n",
       "      <td>38</td>\n",
       "      <td>42</td>\n",
       "      <td>815</td>\n",
       "      <td>Superior frontal gyrus, supplementary motor co...</td>\n",
       "      <td>3.44</td>\n",
       "      <td>MNI</td>\n",
       "    </tr>\n",
       "    <tr>\n",
       "      <th>226853</th>\n",
       "      <td>3400659</td>\n",
       "      <td>Regions displaying greater activation during r...</td>\n",
       "      <td>34</td>\n",
       "      <td>56</td>\n",
       "      <td>18</td>\n",
       "      <td>797</td>\n",
       "      <td>Frontal pole</td>\n",
       "      <td>3.6</td>\n",
       "      <td>MNI</td>\n",
       "    </tr>\n",
       "  </tbody>\n",
       "</table>\n",
       "<p>225485 rows × 9 columns</p>\n",
       "</div>"
      ],
      "text/plain": [
       "           pmid                                           contrast    x    y  \\\n",
       "0       7563784                                        TEA vs. TGA  -30  -30   \n",
       "1       7563784                                        TEA vs. TGA  -20  -20   \n",
       "2       7563784                                        TEA vs. TGA  -30   -5   \n",
       "3       7563784                                        TEA vs. TGA  -25   -5   \n",
       "4       7563784                                        TEA vs. TGA  -25  -20   \n",
       "...         ...                                                ...  ...  ...   \n",
       "226849  3400659  Regions displaying greater activation during r...   18  -82   \n",
       "226850  3400659  Regions displaying greater activation during r...   48   26   \n",
       "226851  3400659  Regions displaying greater activation during r...  -48   14   \n",
       "226852  3400659  Regions displaying greater activation during r...    6   38   \n",
       "226853  3400659  Regions displaying greater activation during r...   34   56   \n",
       "\n",
       "          z cluster_size                                              label  \\\n",
       "0       -25         None                          Parahippocampal gyrus (l)   \n",
       "1       -20         None                          Parahippocampal gyrus (l)   \n",
       "2       -40         None                                          Uncus (l)   \n",
       "3       -25         None                                          Uncus (l)   \n",
       "4       -30         None                          Parahippocampal gyrus (l)   \n",
       "...     ...          ...                                                ...   \n",
       "226849   54         1405  Lateral occipital cortex, supramarginal gyrus,...   \n",
       "226850   10         1112  Inferior frontal gyrus, middle frontal gyrus, ...   \n",
       "226851    4          939  Inferior frontal gyrus, orbitofrontal cortex, ...   \n",
       "226852   42          815  Superior frontal gyrus, supplementary motor co...   \n",
       "226853   18          797                                       Frontal pole   \n",
       "\n",
       "                      statistic coordinate_type  \n",
       "0       {'t': 2.62, 'p': 0.499}             MNI  \n",
       "1       {'t': 3.05, 'p': 0.278}             MNI  \n",
       "2        {'t': 3.83, 'p': 0.08}             MNI  \n",
       "3        {'t': 3.83, 'p': 0.08}             MNI  \n",
       "4        {'t': 4.2, 'p': 0.042}             MNI  \n",
       "...                         ...             ...  \n",
       "226849                     3.63             MNI  \n",
       "226850                     3.67             MNI  \n",
       "226851                     4.12             MNI  \n",
       "226852                     3.44             MNI  \n",
       "226853                      3.6             MNI  \n",
       "\n",
       "[225485 rows x 9 columns]"
      ]
     },
     "execution_count": 164,
     "metadata": {},
     "output_type": "execute_result"
    }
   ],
   "source": [
    "coords_df"
   ]
  }
 ],
 "metadata": {
  "kernelspec": {
   "display_name": ".venv",
   "language": "python",
   "name": "python3"
  },
  "language_info": {
   "codemirror_mode": {
    "name": "ipython",
    "version": 3
   },
   "file_extension": ".py",
   "mimetype": "text/x-python",
   "name": "python",
   "nbconvert_exporter": "python",
   "pygments_lexer": "ipython3",
   "version": "3.12.0"
  }
 },
 "nbformat": 4,
 "nbformat_minor": 2
}
