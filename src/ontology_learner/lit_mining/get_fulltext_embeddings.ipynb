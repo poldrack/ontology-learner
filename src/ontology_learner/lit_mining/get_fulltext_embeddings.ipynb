{
 "cells": [
  {
   "cell_type": "code",
   "execution_count": 2,
   "metadata": {},
   "outputs": [],
   "source": [
    "from pathlib import Path\n",
    "from ontology_learner.lit_mining.litmining_utils import get_fulltext_from_pmcid_json\n",
    "import re\n",
    "import string\n",
    "from nltk.corpus import stopwords\n",
    "\n",
    "# %%\n"
   ]
  },
  {
   "cell_type": "code",
   "execution_count": 3,
   "metadata": {},
   "outputs": [
    {
     "name": "stdout",
     "output_type": "stream",
     "text": [
      "found 132257 data files\n"
     ]
    }
   ],
   "source": [
    "datadir = Path('/Users/poldrack/Dropbox/data/ontology-learner/data/json')\n",
    "datafiles = list(datadir.glob('*.json'))\n",
    "print(f'found {len(datafiles)} data files')\n"
   ]
  },
  {
   "cell_type": "markdown",
   "metadata": {},
   "source": [
    "we need to generate a single "
   ]
  },
  {
   "cell_type": "code",
   "execution_count": 4,
   "metadata": {},
   "outputs": [],
   "source": [
    "\n",
    "fulltext = {}\n",
    "\n",
    "def process_fulltext(fulltext):\n",
    "    # remove all newlines\n",
    "    fulltext = fulltext.replace('\\n', ' ')\n",
    "    # remove all punctuation\n",
    "    fulltext = fulltext.translate(str.maketrans('', '', string.punctuation))\n",
    "    # remove all numbers\n",
    "    fulltext = re.sub(r'\\d+', '', fulltext)\n",
    "    # remove stopwords\n",
    "    fulltext = ' '.join([word for word in fulltext.split() if word not in stopwords.words('english')])\n",
    "    return fulltext\n",
    "\n",
    "outfile = Path('/Users/poldrack/Dropbox/data/ontology-learner/data/fulltext.txt')\n",
    "with open(outfile, 'w') as f:\n",
    "    for datafile in datafiles:\n",
    "        pmcid = datafile.stem\n",
    "        fulltext[pmcid] = get_fulltext_from_pmcid_json(pmcid, datadir)\n",
    "        # processed_text = process_fulltext(fulltext[pmcid])\n",
    "        f.write(f'{fulltext[pmcid] }\\n')\n",
    "        \n",
    "\n",
    "# %%\n"
   ]
  },
  {
   "cell_type": "code",
   "execution_count": 5,
   "metadata": {},
   "outputs": [
    {
     "name": "stdout",
     "output_type": "stream",
     "text": [
      "found 132257 fulltext\n"
     ]
    }
   ],
   "source": [
    "print(f'found {len(fulltext)} fulltext')"
   ]
  },
  {
   "cell_type": "code",
   "execution_count": 6,
   "metadata": {},
   "outputs": [],
   "source": [
    "import pickle\n",
    "with open('/Users/poldrack/Dropbox/data/ontology-learner/data/fulltext.pkl', 'wb') as f:\n",
    "    pickle.dump(fulltext, f)\n",
    "\n"
   ]
  },
  {
   "cell_type": "markdown",
   "metadata": {},
   "source": [
    "llm embeddings"
   ]
  },
  {
   "cell_type": "code",
   "execution_count": 7,
   "metadata": {},
   "outputs": [
    {
     "data": {
      "application/vnd.jupyter.widget-view+json": {
       "model_id": "b8d96fd0ccdf46f0bb68f5155efe748f",
       "version_major": 2,
       "version_minor": 0
      },
      "text/plain": [
       "Loading checkpoint shards:   0%|          | 0/2 [00:00<?, ?it/s]"
      ]
     },
     "metadata": {},
     "output_type": "display_data"
    },
    {
     "name": "stderr",
     "output_type": "stream",
     "text": [
      "/Users/poldrack/micromamba/envs/llama/lib/python3.12/site-packages/bitsandbytes/cextension.py:34: UserWarning: The installed version of bitsandbytes was compiled without GPU support. 8-bit optimizers, 8-bit multiplication, and GPU quantization are unavailable.\n",
      "  warn(\"The installed version of bitsandbytes was compiled without GPU support. \"\n"
     ]
    },
    {
     "name": "stdout",
     "output_type": "stream",
     "text": [
      "'NoneType' object has no attribute 'cadam32bit_grad_fp32'\n"
     ]
    }
   ],
   "source": [
    "from peft import PeftModel, PeftConfig\n",
    "from transformers import AutoModelForCausalLM\n",
    "\n",
    "config = PeftConfig.from_pretrained(\"BrainGPT/BrainGPT-7B-v0.1\")\n",
    "base_model = AutoModelForCausalLM.from_pretrained(\"meta-llama/Llama-2-7b-chat-hf\")\n",
    "model = PeftModel.from_pretrained(base_model, \"BrainGPT/BrainGPT-7B-v0.1\")"
   ]
  },
  {
   "cell_type": "code",
   "execution_count": null,
   "metadata": {},
   "outputs": [],
   "source": [
    "import torch\n",
    "from llm2vec import LLM2Vec\n",
    "\n",
    "l2v = LLM2Vec.from_pretrained(\n",
    "    \"BrainGPT/BrainGPT-7B-v0.1\",\n",
    "    peft_model_name_or_path=\"BrainGPT/BrainGPT-7B-v0.1\",\n",
    "    device_map=\"cuda\" if torch.cuda.is_available() else \"cpu\",\n",
    "    torch_dtype=torch.bfloat16,\n",
    ")"
   ]
  }
 ],
 "metadata": {
  "kernelspec": {
   "display_name": ".venv",
   "language": "python",
   "name": "python3"
  },
  "language_info": {
   "codemirror_mode": {
    "name": "ipython",
    "version": 3
   },
   "file_extension": ".py",
   "mimetype": "text/x-python",
   "name": "python",
   "nbconvert_exporter": "python",
   "pygments_lexer": "ipython3",
   "version": "3.12.7"
  }
 },
 "nbformat": 4,
 "nbformat_minor": 2
}
