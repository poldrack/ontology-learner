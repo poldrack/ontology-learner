{
 "cells": [
  {
   "cell_type": "code",
   "execution_count": 1,
   "metadata": {},
   "outputs": [],
   "source": [
    "# add autoreload\n",
    "%load_ext autoreload\n",
    "%autoreload 2\n",
    "\n",
    "import json\n",
    "import os\n",
    "from pathlib import Path\n",
    "\n",
    "\n"
   ]
  },
  {
   "cell_type": "code",
   "execution_count": 2,
   "metadata": {},
   "outputs": [
    {
     "name": "stdout",
     "output_type": "stream",
     "text": [
      "found 4 results files\n"
     ]
    }
   ],
   "source": [
    "datadir = Path('/Users/poldrack/data_unsynced/ontology-learner/data/json')\n",
    "outdir_fulltext = Path('/Users/poldrack/data_unsynced/ontology-learner/data/results_fulltext')\n",
    "\n",
    "results = list(outdir_fulltext.glob('*.json'))\n",
    "results.sort()\n",
    "\n",
    "print(f'found {len(results)} results files')"
   ]
  },
  {
   "cell_type": "code",
   "execution_count": 5,
   "metadata": {},
   "outputs": [
    {
     "data": {
      "text/plain": [
       "15"
      ]
     },
     "execution_count": 5,
     "metadata": {},
     "output_type": "execute_result"
    }
   ],
   "source": [
    "constructs = set()\n",
    "tasks = set()\n",
    "conditions = set()\n",
    "contrasts = set()\n",
    "brain_regions = set()\n",
    "\n",
    "for filename  in results:\n",
    "    pmcid = filename.stem\n",
    "    with open(filename, 'r') as f:\n",
    "        claude_results = json.load(f)\n",
    "    if 'construct' in claude_results:\n",
    "        constructs.update(claude_results['construct'])\n",
    "    if 'task' in claude_results:\n",
    "        tasks.update(claude_results['task'])\n",
    "    if 'condition' in claude_results:\n",
    "        conditions.update(claude_results['condition'])\n",
    "    if 'contrast' in claude_results:\n",
    "        contrasts.update(claude_results['contrast'])\n",
    "    if 'brain_region' in claude_results:\n",
    "        brain_regions.update(claude_results['brain_region'])\n",
    "\n",
    "len(constructs)\n",
    "\n"
   ]
  },
  {
   "cell_type": "code",
   "execution_count": 6,
   "metadata": {},
   "outputs": [
    {
     "data": {
      "text/plain": [
       "{'construct': [], 'task': [], 'condition': {}, 'contrast': {}}"
      ]
     },
     "execution_count": 6,
     "metadata": {},
     "output_type": "execute_result"
    }
   ],
   "source": [
    "claude_results"
   ]
  },
  {
   "cell_type": "code",
   "execution_count": null,
   "metadata": {},
   "outputs": [],
   "source": []
  }
 ],
 "metadata": {
  "kernelspec": {
   "display_name": ".venv",
   "language": "python",
   "name": "python3"
  },
  "language_info": {
   "codemirror_mode": {
    "name": "ipython",
    "version": 3
   },
   "file_extension": ".py",
   "mimetype": "text/x-python",
   "name": "python",
   "nbconvert_exporter": "python",
   "pygments_lexer": "ipython3",
   "version": "3.12.0"
  }
 },
 "nbformat": 4,
 "nbformat_minor": 2
}
